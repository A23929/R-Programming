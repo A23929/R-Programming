{
  "nbformat": 4,
  "nbformat_minor": 0,
  "metadata": {
    "colab": {
      "provenance": [],
      "authorship_tag": "ABX9TyNPOuuYlkGavPFkUaM5VB07"
    },
    "kernelspec": {
      "name": "python3",
      "display_name": "Python 3"
    },
    "language_info": {
      "name": "python"
    }
  },
  "cells": [
    {
      "cell_type": "code",
      "execution_count": null,
      "metadata": {
        "id": "3X1c3rLhvruv"
      },
      "outputs": [],
      "source": [
        "# numeric\n",
        "a<-8\n",
        "class(a)\n",
        "\n",
        "# integer\n",
        "a<-3L\n",
        "class(a)\n",
        "# character\n",
        "class(\"daf\")\n",
        "\n",
        "# boolean\n",
        "class(TRUE)\n",
        "\n",
        "# complex\n",
        "x <- 2i + 12\n",
        "class(x)\n",
        "\n",
        "#raw\n",
        "c=raw()\n",
        "class(c)\n",
        "\n",
        "# list\n",
        "apple=list(c('red','green','yellow'))\n",
        "class(apple)\n",
        "\n",
        "# factor\n",
        "a=factor(apple)\n",
        "class(a)\n",
        "\n",
        "# data frame\n",
        "bmi=data.frame(gender = c('Male','Other','Male'),\n",
        "height = c(162, 171.5, 165),\n",
        "weight = c(84,73, 78),\n",
        "Age =c(45,39,36))\n",
        "class(bmi)\n",
        "\n",
        "# matrix\n",
        "mat <- matrix(c(1,2,3,4,5,6), nrow = 3, ncol = 2)\n",
        "class(mat)\n",
        "\n",
        "# vector\n",
        "  # character\n",
        "  fruits <- c(\"banana\", \"apple\", \"orange\")\n",
        "  class(fruits)\n",
        "  # numeric\n",
        "  fruits <- c(1,2,3)"
      ]
    }
  ]
}