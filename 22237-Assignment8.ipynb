{
 "cells": [
  {
   "cell_type": "markdown",
   "id": "ae957077",
   "metadata": {},
   "source": [
    "### Name: Aniruddha\n",
    "### Regd No: 22237\n",
    "### Date: 26/04/2023\n",
    "### R-Lab: Linear Models for Regresssion\n",
    "### Assignment 8"
   ]
  },
  {
   "cell_type": "markdown",
   "id": "eW0RH0KjnJL0",
   "metadata": {
    "id": "eW0RH0KjnJL0"
   },
   "source": [
    "### Installing Necessary Packages"
   ]
  },
  {
   "cell_type": "markdown",
   "id": "34a01bc2",
   "metadata": {
    "id": "34a01bc2"
   },
   "source": [
    "### Single Linear Regression on mtcars dataset"
   ]
  },
  {
   "cell_type": "code",
   "execution_count": 4,
   "id": "afd0ca5e",
   "metadata": {
    "colab": {
     "base_uri": "https://localhost:8080/",
     "height": 286
    },
    "id": "6a6b93c4",
    "outputId": "5d6b140d-3498-4102-b6d0-d0a3965ca91b"
   },
   "outputs": [
    {
     "data": {
      "text/html": [
       "<table class=\"dataframe\">\n",
       "<caption>A data.frame: 6 × 11</caption>\n",
       "<thead>\n",
       "\t<tr><th></th><th scope=col>mpg</th><th scope=col>cyl</th><th scope=col>disp</th><th scope=col>hp</th><th scope=col>drat</th><th scope=col>wt</th><th scope=col>qsec</th><th scope=col>vs</th><th scope=col>am</th><th scope=col>gear</th><th scope=col>carb</th></tr>\n",
       "\t<tr><th></th><th scope=col>&lt;dbl&gt;</th><th scope=col>&lt;dbl&gt;</th><th scope=col>&lt;dbl&gt;</th><th scope=col>&lt;dbl&gt;</th><th scope=col>&lt;dbl&gt;</th><th scope=col>&lt;dbl&gt;</th><th scope=col>&lt;dbl&gt;</th><th scope=col>&lt;dbl&gt;</th><th scope=col>&lt;dbl&gt;</th><th scope=col>&lt;dbl&gt;</th><th scope=col>&lt;dbl&gt;</th></tr>\n",
       "</thead>\n",
       "<tbody>\n",
       "\t<tr><th scope=row>Mazda RX4</th><td>21.0</td><td>6</td><td>160</td><td>110</td><td>3.90</td><td>2.620</td><td>16.46</td><td>0</td><td>1</td><td>4</td><td>4</td></tr>\n",
       "\t<tr><th scope=row>Mazda RX4 Wag</th><td>21.0</td><td>6</td><td>160</td><td>110</td><td>3.90</td><td>2.875</td><td>17.02</td><td>0</td><td>1</td><td>4</td><td>4</td></tr>\n",
       "\t<tr><th scope=row>Datsun 710</th><td>22.8</td><td>4</td><td>108</td><td> 93</td><td>3.85</td><td>2.320</td><td>18.61</td><td>1</td><td>1</td><td>4</td><td>1</td></tr>\n",
       "\t<tr><th scope=row>Hornet 4 Drive</th><td>21.4</td><td>6</td><td>258</td><td>110</td><td>3.08</td><td>3.215</td><td>19.44</td><td>1</td><td>0</td><td>3</td><td>1</td></tr>\n",
       "\t<tr><th scope=row>Hornet Sportabout</th><td>18.7</td><td>8</td><td>360</td><td>175</td><td>3.15</td><td>3.440</td><td>17.02</td><td>0</td><td>0</td><td>3</td><td>2</td></tr>\n",
       "\t<tr><th scope=row>Valiant</th><td>18.1</td><td>6</td><td>225</td><td>105</td><td>2.76</td><td>3.460</td><td>20.22</td><td>1</td><td>0</td><td>3</td><td>1</td></tr>\n",
       "</tbody>\n",
       "</table>\n"
      ],
      "text/latex": [
       "A data.frame: 6 × 11\n",
       "\\begin{tabular}{r|lllllllllll}\n",
       "  & mpg & cyl & disp & hp & drat & wt & qsec & vs & am & gear & carb\\\\\n",
       "  & <dbl> & <dbl> & <dbl> & <dbl> & <dbl> & <dbl> & <dbl> & <dbl> & <dbl> & <dbl> & <dbl>\\\\\n",
       "\\hline\n",
       "\tMazda RX4 & 21.0 & 6 & 160 & 110 & 3.90 & 2.620 & 16.46 & 0 & 1 & 4 & 4\\\\\n",
       "\tMazda RX4 Wag & 21.0 & 6 & 160 & 110 & 3.90 & 2.875 & 17.02 & 0 & 1 & 4 & 4\\\\\n",
       "\tDatsun 710 & 22.8 & 4 & 108 &  93 & 3.85 & 2.320 & 18.61 & 1 & 1 & 4 & 1\\\\\n",
       "\tHornet 4 Drive & 21.4 & 6 & 258 & 110 & 3.08 & 3.215 & 19.44 & 1 & 0 & 3 & 1\\\\\n",
       "\tHornet Sportabout & 18.7 & 8 & 360 & 175 & 3.15 & 3.440 & 17.02 & 0 & 0 & 3 & 2\\\\\n",
       "\tValiant & 18.1 & 6 & 225 & 105 & 2.76 & 3.460 & 20.22 & 1 & 0 & 3 & 1\\\\\n",
       "\\end{tabular}\n"
      ],
      "text/markdown": [
       "\n",
       "A data.frame: 6 × 11\n",
       "\n",
       "| <!--/--> | mpg &lt;dbl&gt; | cyl &lt;dbl&gt; | disp &lt;dbl&gt; | hp &lt;dbl&gt; | drat &lt;dbl&gt; | wt &lt;dbl&gt; | qsec &lt;dbl&gt; | vs &lt;dbl&gt; | am &lt;dbl&gt; | gear &lt;dbl&gt; | carb &lt;dbl&gt; |\n",
       "|---|---|---|---|---|---|---|---|---|---|---|---|\n",
       "| Mazda RX4 | 21.0 | 6 | 160 | 110 | 3.90 | 2.620 | 16.46 | 0 | 1 | 4 | 4 |\n",
       "| Mazda RX4 Wag | 21.0 | 6 | 160 | 110 | 3.90 | 2.875 | 17.02 | 0 | 1 | 4 | 4 |\n",
       "| Datsun 710 | 22.8 | 4 | 108 |  93 | 3.85 | 2.320 | 18.61 | 1 | 1 | 4 | 1 |\n",
       "| Hornet 4 Drive | 21.4 | 6 | 258 | 110 | 3.08 | 3.215 | 19.44 | 1 | 0 | 3 | 1 |\n",
       "| Hornet Sportabout | 18.7 | 8 | 360 | 175 | 3.15 | 3.440 | 17.02 | 0 | 0 | 3 | 2 |\n",
       "| Valiant | 18.1 | 6 | 225 | 105 | 2.76 | 3.460 | 20.22 | 1 | 0 | 3 | 1 |\n",
       "\n"
      ],
      "text/plain": [
       "                  mpg  cyl disp hp  drat wt    qsec  vs am gear carb\n",
       "Mazda RX4         21.0 6   160  110 3.90 2.620 16.46 0  1  4    4   \n",
       "Mazda RX4 Wag     21.0 6   160  110 3.90 2.875 17.02 0  1  4    4   \n",
       "Datsun 710        22.8 4   108   93 3.85 2.320 18.61 1  1  4    1   \n",
       "Hornet 4 Drive    21.4 6   258  110 3.08 3.215 19.44 1  0  3    1   \n",
       "Hornet Sportabout 18.7 8   360  175 3.15 3.440 17.02 0  0  3    2   \n",
       "Valiant           18.1 6   225  105 2.76 3.460 20.22 1  0  3    1   "
      ]
     },
     "metadata": {},
     "output_type": "display_data"
    }
   ],
   "source": [
    "# Loading the mtcars dataset\n",
    "data(mtcars)\n",
    "head(mtcars)"
   ]
  },
  {
   "cell_type": "code",
   "execution_count": 10,
   "id": "8a3df296",
   "metadata": {
    "id": "8a3df296"
   },
   "outputs": [],
   "source": [
    "# Fit a simple linear regression model of mpg against Rear axle ratio\n",
    "\n",
    "model <- lm(mpg ~ drat, data = mtcars)\n",
    "\n",
    "# here mpg is the response and drat is the predictor"
   ]
  },
  {
   "cell_type": "code",
   "execution_count": 11,
   "id": "6eed56c5",
   "metadata": {
    "colab": {
     "base_uri": "https://localhost:8080/",
     "height": 339
    },
    "id": "6eed56c5",
    "outputId": "9d129f62-3f94-4fa9-add9-db47313e2431"
   },
   "outputs": [
    {
     "data": {
      "text/plain": [
       "\n",
       "Call:\n",
       "lm(formula = mpg ~ drat, data = mtcars)\n",
       "\n",
       "Residuals:\n",
       "    Min      1Q  Median      3Q     Max \n",
       "-9.0775 -2.6803 -0.2095  2.2976  9.0225 \n",
       "\n",
       "Coefficients:\n",
       "            Estimate Std. Error t value Pr(>|t|)    \n",
       "(Intercept)   -7.525      5.477  -1.374     0.18    \n",
       "drat           7.678      1.507   5.096 1.78e-05 ***\n",
       "---\n",
       "Signif. codes:  0 '***' 0.001 '**' 0.01 '*' 0.05 '.' 0.1 ' ' 1\n",
       "\n",
       "Residual standard error: 4.485 on 30 degrees of freedom\n",
       "Multiple R-squared:  0.464,\tAdjusted R-squared:  0.4461 \n",
       "F-statistic: 25.97 on 1 and 30 DF,  p-value: 1.776e-05\n"
      ]
     },
     "metadata": {},
     "output_type": "display_data"
    }
   ],
   "source": [
    "# Printing the summary of the model\n",
    "summary(model)"
   ]
  },
  {
   "cell_type": "code",
   "execution_count": 8,
   "id": "df4c5499",
   "metadata": {
    "id": "df4c5499"
   },
   "outputs": [],
   "source": [
    "library(ggplot2)"
   ]
  },
  {
   "cell_type": "code",
   "execution_count": 12,
   "id": "4bf5f74f",
   "metadata": {
    "colab": {
     "base_uri": "https://localhost:8080/",
     "height": 437
    },
    "id": "4bf5f74f",
    "outputId": "68300383-d6b3-46ef-fd5d-a281eed2adde"
   },
   "outputs": [
    {
     "data": {
      "image/png": "[encoded data removed]",
      "text/plain": [
       "plot without title"
      ]
     },
     "metadata": {
      "image/png": {
       "height": 420,
       "width": 420
      }
     },
     "output_type": "display_data"
    }
   ],
   "source": [
    "ggplot(mtcars, aes(x = wt, y = mpg)) +\n",
    "  geom_point() +\n",
    "  labs(x = \"Rear axle ratio\", y = \"Miles per gallon\") +\n",
    "  ggtitle(\"Scatter plot of mpg against Rear axle ratio\")"
   ]
  },
  {
   "cell_type": "markdown",
   "id": "6ea78f66",
   "metadata": {
    "id": "6ea78f66"
   },
   "source": [
    "### Single Linear Regresssion"
   ]
  },
  {
   "cell_type": "code",
   "execution_count": 118,
   "id": "6913b32b",
   "metadata": {
    "colab": {
     "base_uri": "https://localhost:8080/",
     "height": 455
    },
    "id": "6913b32b",
    "outputId": "09685d84-8261-48d1-9f76-62fb0f74c595"
   },
   "outputs": [
    {
     "name": "stderr",
     "output_type": "stream",
     "text": [
      "\u001b[1m\u001b[22m`geom_smooth()` using formula = 'y ~ x'\n"
     ]
    },
    {
     "data": {
      "image/png": "[encoded data removed]",
      "text/plain": [
       "plot without title"
      ]
     },
     "metadata": {
      "image/png": {
       "height": 420,
       "width": 420
      }
     },
     "output_type": "display_data"
    }
   ],
   "source": [
    "ggplot(mtcars, aes(x = wt, y = mpg)) +\n",
    "  geom_point() +\n",
    "  labs(x = \"Rear axle ratio\", y = \"Miles per gallon\") +\n",
    "  ggtitle(\"Scatter plot of mpg against Rear axle ratio\") +\n",
    "  geom_smooth(method = \"lm\", se = FALSE)"
   ]
  },
  {
   "cell_type": "markdown",
   "id": "a6cac8b8",
   "metadata": {
    "id": "a6cac8b8"
   },
   "source": [
    "### Multiple Linear Regression"
   ]
  },
  {
   "cell_type": "code",
   "execution_count": 18,
   "id": "2e2b3960",
   "metadata": {
    "id": "2e2b3960"
   },
   "outputs": [],
   "source": [
    "# Fitting the multiple linear regression model with mpg as the response variable and cyl, drat, hp as the predictors\n",
    "model_mlr = lm(mpg ~ cyl + hp + drat, data = mtcars)"
   ]
  },
  {
   "cell_type": "code",
   "execution_count": 19,
   "id": "81b912c4",
   "metadata": {
    "colab": {
     "base_uri": "https://localhost:8080/",
     "height": 392
    },
    "id": "81b912c4",
    "outputId": "a9a08e70-908e-4e4f-ede1-41f90e9703d6",
    "scrolled": true
   },
   "outputs": [
    {
     "data": {
      "text/plain": [
       "\n",
       "Call:\n",
       "lm(formula = mpg ~ cyl + hp + drat, data = mtcars)\n",
       "\n",
       "Residuals:\n",
       "    Min      1Q  Median      3Q     Max \n",
       "-4.2103 -2.0384 -0.0944  1.2891  6.7107 \n",
       "\n",
       "Coefficients:\n",
       "            Estimate Std. Error t value Pr(>|t|)   \n",
       "(Intercept) 22.51406    7.99354   2.817   0.0088 **\n",
       "cyl         -1.36060    0.73493  -1.851   0.0747 . \n",
       "hp          -0.02878    0.01530  -1.881   0.0704 . \n",
       "drat         2.84090    1.52208   1.866   0.0725 . \n",
       "---\n",
       "Signif. codes:  0 '***' 0.001 '**' 0.01 '*' 0.05 '.' 0.1 ' ' 1\n",
       "\n",
       "Residual standard error: 3.045 on 28 degrees of freedom\n",
       "Multiple R-squared:  0.7694,\tAdjusted R-squared:  0.7447 \n",
       "F-statistic: 31.14 on 3 and 28 DF,  p-value: 4.616e-09\n"
      ]
     },
     "metadata": {},
     "output_type": "display_data"
    }
   ],
   "source": [
    "summary(model_mlr)"
   ]
  },
  {
   "cell_type": "markdown",
   "id": "d09db855",
   "metadata": {
    "id": "d09db855"
   },
   "source": [
    "### Multiple Linear Regression Model"
   ]
  },
  {
   "cell_type": "code",
   "execution_count": 20,
   "id": "94fc575e",
   "metadata": {
    "colab": {
     "base_uri": "https://localhost:8080/",
     "height": 455
    },
    "id": "94fc575e",
    "outputId": "41d1f55a-4995-41b7-84be-d4ebb07207fd"
   },
   "outputs": [
    {
     "name": "stderr",
     "output_type": "stream",
     "text": [
      "\u001b[1m\u001b[22m`geom_smooth()` using formula = 'y ~ x'\n"
     ]
    },
    {
     "data": {
      "image/png": "[encoded data removed]",
      "text/plain": [
       "plot without title"
      ]
     },
     "metadata": {
      "image/png": {
       "height": 420,
       "width": 420
      }
     },
     "output_type": "display_data"
    }
   ],
   "source": [
    "# Create a scatter plot of mpg vs. drat, with a regression line passing through\n",
    "\n",
    "ggplot(mtcars, aes(x = drat, y = mpg)) +\n",
    "    geom_point()+\n",
    "    geom_smooth(method = \"lm\", se = FALSE)"
   ]
  },
  {
   "cell_type": "code",
   "execution_count": 24,
   "id": "8eba20dc",
   "metadata": {
    "colab": {
     "base_uri": "https://localhost:8080/",
     "height": 455
    },
    "id": "8eba20dc",
    "outputId": "318d308b-cc50-4ac6-ed74-9f73a9d764a2"
   },
   "outputs": [
    {
     "name": "stderr",
     "output_type": "stream",
     "text": [
      "\u001b[1m\u001b[22m`geom_smooth()` using formula = 'y ~ x'\n"
     ]
    },
    {
     "data": {
      "image/png": "[encoded data removed]",
      "text/plain": [
       "plot without title"
      ]
     },
     "metadata": {
      "image/png": {
       "height": 420,
       "width": 420
      }
     },
     "output_type": "display_data"
    }
   ],
   "source": [
    "# Add the predicted values from the model to the scatter plot\n",
    "\n",
    "ggplot(mtcars, aes(x = drat, y = mpg)) + \n",
    "  geom_point() + \n",
    "  geom_smooth(method = \"lm\", se = TRUE) +\n",
    "  geom_line(aes(x = wt, y = predict(model)))"
   ]
  },
  {
   "cell_type": "markdown",
   "id": "06d5e805",
   "metadata": {
    "id": "06d5e805"
   },
   "source": [
    "### Logistic Regression"
   ]
  },
  {
   "cell_type": "code",
   "execution_count": 34,
   "id": "eab271ee",
   "metadata": {
    "colab": {
     "base_uri": "https://localhost:8080/"
    },
    "id": "eab271ee",
    "outputId": "04498657-47ae-4a69-abf4-dc3e5493436c",
    "scrolled": true
   },
   "outputs": [
    {
     "name": "stderr",
     "output_type": "stream",
     "text": [
      "\n",
      "Attaching package: 'dplyr'\n",
      "\n",
      "\n",
      "The following object is masked from 'package:car':\n",
      "\n",
      "    recode\n",
      "\n",
      "\n",
      "The following objects are masked from 'package:stats':\n",
      "\n",
      "    filter, lag\n",
      "\n",
      "\n",
      "The following objects are masked from 'package:base':\n",
      "\n",
      "    intersect, setdiff, setequal, union\n",
      "\n",
      "\n"
     ]
    }
   ],
   "source": [
    "library(dplyr)\n",
    "library(ggplot2)"
   ]
  },
  {
   "cell_type": "code",
   "execution_count": 35,
   "id": "bcb4d483",
   "metadata": {
    "id": "bcb4d483"
   },
   "outputs": [],
   "source": [
    "data(mtcars)"
   ]
  },
  {
   "cell_type": "code",
   "execution_count": 38,
   "id": "0ce31d60",
   "metadata": {
    "id": "0ce31d60"
   },
   "outputs": [],
   "source": [
    "# Converting the disp variable to a factor\n",
    "mtcars$disp <- as.factor(mtcars$disp)"
   ]
  },
  {
   "cell_type": "code",
   "execution_count": 51,
   "id": "67913946",
   "metadata": {
    "id": "67913946"
   },
   "outputs": [],
   "source": [
    "# Fit a logistic regression model with am as the response variable\n",
    "model_logit <- glm(am ~ gear + hp, data = mtcars, family = binomial(link = \"logit\"))"
   ]
  },
  {
   "cell_type": "code",
   "execution_count": 52,
   "id": "9f730bc5",
   "metadata": {
    "colab": {
     "base_uri": "https://localhost:8080/",
     "height": 374
    },
    "id": "9f730bc5",
    "outputId": "e348dcef-2049-4264-9403-d35bb7dc05eb"
   },
   "outputs": [
    {
     "data": {
      "text/plain": [
       "\n",
       "Call:\n",
       "glm(formula = am ~ gear + hp, family = binomial(link = \"logit\"), \n",
       "    data = mtcars)\n",
       "\n",
       "Deviance Residuals: \n",
       "    Min       1Q   Median       3Q      Max  \n",
       "-1.8902   0.0000   0.0000   0.1321   1.1040  \n",
       "\n",
       "Coefficients:\n",
       "              Estimate Std. Error z value Pr(>|z|)\n",
       "(Intercept) -9.473e+01  1.866e+04  -0.005    0.996\n",
       "gear         2.454e+01  4.665e+03   0.005    0.996\n",
       "hp          -2.975e-02  2.779e-02  -1.070    0.284\n",
       "\n",
       "(Dispersion parameter for binomial family taken to be 1)\n",
       "\n",
       "    Null deviance: 43.23  on 31  degrees of freedom\n",
       "Residual deviance: 13.99  on 29  degrees of freedom\n",
       "AIC: 19.99\n",
       "\n",
       "Number of Fisher Scoring iterations: 20\n"
      ]
     },
     "metadata": {},
     "output_type": "display_data"
    }
   ],
   "source": [
    "summary(model_logit) # model summary"
   ]
  },
  {
   "cell_type": "code",
   "execution_count": 60,
   "id": "dcf5acd1",
   "metadata": {
    "colab": {
     "base_uri": "https://localhost:8080/",
     "height": 286
    },
    "id": "dcf5acd1",
    "outputId": "aef8e71b-628f-48a9-8d7d-594eb3ceb29c"
   },
   "outputs": [
    {
     "data": {
      "text/html": [
       "<table class=\"dataframe\">\n",
       "<caption>A data.frame: 6 × 2</caption>\n",
       "<thead>\n",
       "\t<tr><th></th><th scope=col>gear</th><th scope=col>hp</th></tr>\n",
       "\t<tr><th></th><th scope=col>&lt;dbl&gt;</th><th scope=col>&lt;dbl&gt;</th></tr>\n",
       "</thead>\n",
       "<tbody>\n",
       "\t<tr><th scope=row>1</th><td>3.000000</td><td>123</td></tr>\n",
       "\t<tr><th scope=row>2</th><td>3.020202</td><td>123</td></tr>\n",
       "\t<tr><th scope=row>3</th><td>3.040404</td><td>123</td></tr>\n",
       "\t<tr><th scope=row>4</th><td>3.060606</td><td>123</td></tr>\n",
       "\t<tr><th scope=row>5</th><td>3.080808</td><td>123</td></tr>\n",
       "\t<tr><th scope=row>6</th><td>3.101010</td><td>123</td></tr>\n",
       "</tbody>\n",
       "</table>\n"
      ],
      "text/latex": [
       "A data.frame: 6 × 2\n",
       "\\begin{tabular}{r|ll}\n",
       "  & gear & hp\\\\\n",
       "  & <dbl> & <dbl>\\\\\n",
       "\\hline\n",
       "\t1 & 3.000000 & 123\\\\\n",
       "\t2 & 3.020202 & 123\\\\\n",
       "\t3 & 3.040404 & 123\\\\\n",
       "\t4 & 3.060606 & 123\\\\\n",
       "\t5 & 3.080808 & 123\\\\\n",
       "\t6 & 3.101010 & 123\\\\\n",
       "\\end{tabular}\n"
      ],
      "text/markdown": [
       "\n",
       "A data.frame: 6 × 2\n",
       "\n",
       "| <!--/--> | gear &lt;dbl&gt; | hp &lt;dbl&gt; |\n",
       "|---|---|---|\n",
       "| 1 | 3.000000 | 123 |\n",
       "| 2 | 3.020202 | 123 |\n",
       "| 3 | 3.040404 | 123 |\n",
       "| 4 | 3.060606 | 123 |\n",
       "| 5 | 3.080808 | 123 |\n",
       "| 6 | 3.101010 | 123 |\n",
       "\n"
      ],
      "text/plain": [
       "  gear     hp \n",
       "1 3.000000 123\n",
       "2 3.020202 123\n",
       "3 3.040404 123\n",
       "4 3.060606 123\n",
       "5 3.080808 123\n",
       "6 3.101010 123"
      ]
     },
     "metadata": {},
     "output_type": "display_data"
    }
   ],
   "source": [
    "# Create a sequence of predictor variable values\n",
    "x_seq <- seq(min(mtcars$gear), max(mtcars$gear), length = 100)\n",
    "df <- data.frame(gear = x_seq, hp = median(mtcars$hp))\n",
    "head(df)"
   ]
  },
  {
   "cell_type": "code",
   "execution_count": 61,
   "id": "05827949",
   "metadata": {
    "colab": {
     "base_uri": "https://localhost:8080/",
     "height": 286
    },
    "id": "05827949",
    "outputId": "589b33fd-992a-4b00-cc27-4f068f8aab9d"
   },
   "outputs": [
    {
     "data": {
      "text/html": [
       "<table class=\"dataframe\">\n",
       "<caption>A data.frame: 6 × 3</caption>\n",
       "<thead>\n",
       "\t<tr><th></th><th scope=col>gear</th><th scope=col>hp</th><th scope=col>y_prob</th></tr>\n",
       "\t<tr><th></th><th scope=col>&lt;dbl&gt;</th><th scope=col>&lt;dbl&gt;</th><th scope=col>&lt;dbl&gt;</th></tr>\n",
       "</thead>\n",
       "<tbody>\n",
       "\t<tr><th scope=row>1</th><td>3.000000</td><td>123</td><td>1.772206e-11</td></tr>\n",
       "\t<tr><th scope=row>2</th><td>3.020202</td><td>123</td><td>2.909783e-11</td></tr>\n",
       "\t<tr><th scope=row>3</th><td>3.040404</td><td>123</td><td>4.777569e-11</td></tr>\n",
       "\t<tr><th scope=row>4</th><td>3.060606</td><td>123</td><td>7.844283e-11</td></tr>\n",
       "\t<tr><th scope=row>5</th><td>3.080808</td><td>123</td><td>1.287952e-10</td></tr>\n",
       "\t<tr><th scope=row>6</th><td>3.101010</td><td>123</td><td>2.114686e-10</td></tr>\n",
       "</tbody>\n",
       "</table>\n"
      ],
      "text/latex": [
       "A data.frame: 6 × 3\n",
       "\\begin{tabular}{r|lll}\n",
       "  & gear & hp & y\\_prob\\\\\n",
       "  & <dbl> & <dbl> & <dbl>\\\\\n",
       "\\hline\n",
       "\t1 & 3.000000 & 123 & 1.772206e-11\\\\\n",
       "\t2 & 3.020202 & 123 & 2.909783e-11\\\\\n",
       "\t3 & 3.040404 & 123 & 4.777569e-11\\\\\n",
       "\t4 & 3.060606 & 123 & 7.844283e-11\\\\\n",
       "\t5 & 3.080808 & 123 & 1.287952e-10\\\\\n",
       "\t6 & 3.101010 & 123 & 2.114686e-10\\\\\n",
       "\\end{tabular}\n"
      ],
      "text/markdown": [
       "\n",
       "A data.frame: 6 × 3\n",
       "\n",
       "| <!--/--> | gear &lt;dbl&gt; | hp &lt;dbl&gt; | y_prob &lt;dbl&gt; |\n",
       "|---|---|---|---|\n",
       "| 1 | 3.000000 | 123 | 1.772206e-11 |\n",
       "| 2 | 3.020202 | 123 | 2.909783e-11 |\n",
       "| 3 | 3.040404 | 123 | 4.777569e-11 |\n",
       "| 4 | 3.060606 | 123 | 7.844283e-11 |\n",
       "| 5 | 3.080808 | 123 | 1.287952e-10 |\n",
       "| 6 | 3.101010 | 123 | 2.114686e-10 |\n",
       "\n"
      ],
      "text/plain": [
       "  gear     hp  y_prob      \n",
       "1 3.000000 123 1.772206e-11\n",
       "2 3.020202 123 2.909783e-11\n",
       "3 3.040404 123 4.777569e-11\n",
       "4 3.060606 123 7.844283e-11\n",
       "5 3.080808 123 1.287952e-10\n",
       "6 3.101010 123 2.114686e-10"
      ]
     },
     "metadata": {},
     "output_type": "display_data"
    }
   ],
   "source": [
    "# Predict the probability of am=1 for each value of gear in the sequence\n",
    "y_prob <- predict(model_logit, newdata = df, type = \"response\")\n",
    "df$y_prob <- y_prob\n",
    "head(df)"
   ]
  },
  {
   "cell_type": "markdown",
   "id": "91f42d2c",
   "metadata": {
    "id": "91f42d2c"
   },
   "source": [
    "### Visualizing the Logistic Regression"
   ]
  },
  {
   "cell_type": "code",
   "execution_count": 62,
   "id": "98cd819d",
   "metadata": {
    "colab": {
     "base_uri": "https://localhost:8080/",
     "height": 437
    },
    "id": "98cd819d",
    "outputId": "3f27206d-abb8-4214-b0bf-273123909f9e"
   },
   "outputs": [
    {
     "data": {
      "image/png": "[encoded data removed]",
      "text/plain": [
       "plot without title"
      ]
     },
     "metadata": {
      "image/png": {
       "height": 420,
       "width": 420
      }
     },
     "output_type": "display_data"
    }
   ],
   "source": [
    "library(ggplot2)\n",
    "ggplot(data = mtcars, aes(x = gear, y = am)) +\n",
    "  geom_point(aes(color = am)) +\n",
    "  geom_line(data = df, aes(x = x_seq, y = y_prob)) +\n",
    "  labs(x = \"Gear\", y = \"Probability of Transmission\") +\n",
    "  ggtitle(\"Logistic Regression Curve\")"
   ]
  },
  {
   "cell_type": "markdown",
   "id": "a1bada63",
   "metadata": {
    "id": "a1bada63"
   },
   "source": [
    "### Poisson Regression"
   ]
  },
  {
   "cell_type": "code",
   "execution_count": 63,
   "id": "88e67ac2",
   "metadata": {
    "colab": {
     "base_uri": "https://localhost:8080/",
     "height": 447
    },
    "id": "88e67ac2",
    "outputId": "000e3af2-ab62-4c9e-c6c7-b7c6f842f5ec"
   },
   "outputs": [
    {
     "name": "stderr",
     "output_type": "stream",
     "text": [
      "\n",
      "Attaching package: 'MASS'\n",
      "\n",
      "\n",
      "The following object is masked from 'package:dplyr':\n",
      "\n",
      "    select\n",
      "\n",
      "\n"
     ]
    },
    {
     "data": {
      "text/html": [
       "<table class=\"dataframe\">\n",
       "<caption>A data.frame: 6 × 5</caption>\n",
       "<thead>\n",
       "\t<tr><th></th><th scope=col>District</th><th scope=col>Group</th><th scope=col>Age</th><th scope=col>Holders</th><th scope=col>Claims</th></tr>\n",
       "\t<tr><th></th><th scope=col>&lt;fct&gt;</th><th scope=col>&lt;ord&gt;</th><th scope=col>&lt;ord&gt;</th><th scope=col>&lt;int&gt;</th><th scope=col>&lt;int&gt;</th></tr>\n",
       "</thead>\n",
       "<tbody>\n",
       "\t<tr><th scope=row>1</th><td>1</td><td><span style=white-space:pre-wrap>&lt;1l   </span></td><td><span style=white-space:pre-wrap>&lt;25  </span></td><td> 197</td><td> 38</td></tr>\n",
       "\t<tr><th scope=row>2</th><td>1</td><td><span style=white-space:pre-wrap>&lt;1l   </span></td><td>25-29</td><td> 264</td><td> 35</td></tr>\n",
       "\t<tr><th scope=row>3</th><td>1</td><td><span style=white-space:pre-wrap>&lt;1l   </span></td><td>30-35</td><td> 246</td><td> 20</td></tr>\n",
       "\t<tr><th scope=row>4</th><td>1</td><td><span style=white-space:pre-wrap>&lt;1l   </span></td><td><span style=white-space:pre-wrap>&gt;35  </span></td><td>1680</td><td>156</td></tr>\n",
       "\t<tr><th scope=row>5</th><td>1</td><td>1-1.5l</td><td><span style=white-space:pre-wrap>&lt;25  </span></td><td> 284</td><td> 63</td></tr>\n",
       "\t<tr><th scope=row>6</th><td>1</td><td>1-1.5l</td><td>25-29</td><td> 536</td><td> 84</td></tr>\n",
       "</tbody>\n",
       "</table>\n"
      ],
      "text/latex": [
       "A data.frame: 6 × 5\n",
       "\\begin{tabular}{r|lllll}\n",
       "  & District & Group & Age & Holders & Claims\\\\\n",
       "  & <fct> & <ord> & <ord> & <int> & <int>\\\\\n",
       "\\hline\n",
       "\t1 & 1 & <1l    & <25   &  197 &  38\\\\\n",
       "\t2 & 1 & <1l    & 25-29 &  264 &  35\\\\\n",
       "\t3 & 1 & <1l    & 30-35 &  246 &  20\\\\\n",
       "\t4 & 1 & <1l    & >35   & 1680 & 156\\\\\n",
       "\t5 & 1 & 1-1.5l & <25   &  284 &  63\\\\\n",
       "\t6 & 1 & 1-1.5l & 25-29 &  536 &  84\\\\\n",
       "\\end{tabular}\n"
      ],
      "text/markdown": [
       "\n",
       "A data.frame: 6 × 5\n",
       "\n",
       "| <!--/--> | District &lt;fct&gt; | Group &lt;ord&gt; | Age &lt;ord&gt; | Holders &lt;int&gt; | Claims &lt;int&gt; |\n",
       "|---|---|---|---|---|---|\n",
       "| 1 | 1 | &lt;1l    | &lt;25   |  197 |  38 |\n",
       "| 2 | 1 | &lt;1l    | 25-29 |  264 |  35 |\n",
       "| 3 | 1 | &lt;1l    | 30-35 |  246 |  20 |\n",
       "| 4 | 1 | &lt;1l    | &gt;35   | 1680 | 156 |\n",
       "| 5 | 1 | 1-1.5l | &lt;25   |  284 |  63 |\n",
       "| 6 | 1 | 1-1.5l | 25-29 |  536 |  84 |\n",
       "\n"
      ],
      "text/plain": [
       "  District Group  Age   Holders Claims\n",
       "1 1        <1l    <25    197     38   \n",
       "2 1        <1l    25-29  264     35   \n",
       "3 1        <1l    30-35  246     20   \n",
       "4 1        <1l    >35   1680    156   \n",
       "5 1        1-1.5l <25    284     63   \n",
       "6 1        1-1.5l 25-29  536     84   "
      ]
     },
     "metadata": {},
     "output_type": "display_data"
    }
   ],
   "source": [
    "library(MASS)\n",
    "data(Insurance)\n",
    "head(Insurance)"
   ]
  },
  {
   "cell_type": "code",
   "execution_count": 64,
   "id": "2704a3f2",
   "metadata": {
    "colab": {
     "base_uri": "https://localhost:8080/",
     "height": 499
    },
    "id": "2704a3f2",
    "outputId": "aab16b91-db2a-4ab4-8822-384c2e2ccd82"
   },
   "outputs": [
    {
     "data": {
      "text/plain": [
       "\n",
       "Call:\n",
       "glm(formula = Claims ~ Group + Age + Holders, family = \"poisson\", \n",
       "    data = Insurance)\n",
       "\n",
       "Deviance Residuals: \n",
       "    Min       1Q   Median       3Q      Max  \n",
       "-5.0968  -2.3838  -0.6682   1.0659   7.2631  \n",
       "\n",
       "Coefficients:\n",
       "              Estimate Std. Error z value Pr(>|z|)    \n",
       "(Intercept)  3.2229509  0.0274553 117.389  < 2e-16 ***\n",
       "Group.L     -0.2765726  0.0509129  -5.432 5.56e-08 ***\n",
       "Group.Q     -0.6792883  0.0461971 -14.704  < 2e-16 ***\n",
       "Group.C     -0.0455701  0.0367555  -1.240 0.215044    \n",
       "Age.L        1.0421566  0.0550869  18.918  < 2e-16 ***\n",
       "Age.Q        0.1940692  0.0512783   3.785 0.000154 ***\n",
       "Age.C        0.2816197  0.0490350   5.743 9.29e-09 ***\n",
       "Holders      0.0004778  0.0000241  19.826  < 2e-16 ***\n",
       "---\n",
       "Signif. codes:  0 '***' 0.001 '**' 0.01 '*' 0.05 '.' 0.1 ' ' 1\n",
       "\n",
       "(Dispersion parameter for poisson family taken to be 1)\n",
       "\n",
       "    Null deviance: 4236.68  on 63  degrees of freedom\n",
       "Residual deviance:  538.69  on 56  degrees of freedom\n",
       "AIC: 872.01\n",
       "\n",
       "Number of Fisher Scoring iterations: 5\n"
      ]
     },
     "metadata": {},
     "output_type": "display_data"
    }
   ],
   "source": [
    "model_poisson <- glm(Claims ~ Group + Age + Holders, data = Insurance, family = \"poisson\")\n",
    "summary(model_poisson)"
   ]
  },
  {
   "cell_type": "code",
   "execution_count": 65,
   "id": "fb43b558",
   "metadata": {
    "id": "fb43b558"
   },
   "outputs": [],
   "source": [
    "predicted <- predict(model_poisson, newdata = Insurance[1:4], type = \"response\")"
   ]
  },
  {
   "cell_type": "code",
   "execution_count": 66,
   "id": "438cc283",
   "metadata": {
    "id": "438cc283"
   },
   "outputs": [],
   "source": [
    "df_pois <- cbind(Insurance, predicted)"
   ]
  },
  {
   "cell_type": "code",
   "execution_count": 67,
   "id": "520484c4",
   "metadata": {
    "colab": {
     "base_uri": "https://localhost:8080/",
     "height": 286
    },
    "id": "520484c4",
    "outputId": "c3fa5e85-76ee-4dc7-b423-1125ad692774"
   },
   "outputs": [
    {
     "data": {
      "text/html": [
       "<table class=\"dataframe\">\n",
       "<caption>A data.frame: 6 × 6</caption>\n",
       "<thead>\n",
       "\t<tr><th></th><th scope=col>District</th><th scope=col>Group</th><th scope=col>Age</th><th scope=col>Holders</th><th scope=col>Claims</th><th scope=col>predicted</th></tr>\n",
       "\t<tr><th></th><th scope=col>&lt;fct&gt;</th><th scope=col>&lt;ord&gt;</th><th scope=col>&lt;ord&gt;</th><th scope=col>&lt;int&gt;</th><th scope=col>&lt;int&gt;</th><th scope=col>&lt;dbl&gt;</th></tr>\n",
       "</thead>\n",
       "<tbody>\n",
       "\t<tr><th scope=row>1</th><td>1</td><td><span style=white-space:pre-wrap>&lt;1l   </span></td><td><span style=white-space:pre-wrap>&lt;25  </span></td><td> 197</td><td> 38</td><td> 12.28179</td></tr>\n",
       "\t<tr><th scope=row>2</th><td>1</td><td><span style=white-space:pre-wrap>&lt;1l   </span></td><td>25-29</td><td> 264</td><td> 35</td><td> 21.41338</td></tr>\n",
       "\t<tr><th scope=row>3</th><td>1</td><td><span style=white-space:pre-wrap>&lt;1l   </span></td><td>30-35</td><td> 246</td><td> 20</td><td> 23.18834</td></tr>\n",
       "\t<tr><th scope=row>4</th><td>1</td><td><span style=white-space:pre-wrap>&lt;1l   </span></td><td><span style=white-space:pre-wrap>&gt;35  </span></td><td>1680</td><td>156</td><td>114.53119</td></tr>\n",
       "\t<tr><th scope=row>5</th><td>1</td><td>1-1.5l</td><td><span style=white-space:pre-wrap>&lt;25  </span></td><td> 284</td><td> 63</td><td> 21.42436</td></tr>\n",
       "\t<tr><th scope=row>6</th><td>1</td><td>1-1.5l</td><td>25-29</td><td> 536</td><td> 84</td><td> 40.80568</td></tr>\n",
       "</tbody>\n",
       "</table>\n"
      ],
      "text/latex": [
       "A data.frame: 6 × 6\n",
       "\\begin{tabular}{r|llllll}\n",
       "  & District & Group & Age & Holders & Claims & predicted\\\\\n",
       "  & <fct> & <ord> & <ord> & <int> & <int> & <dbl>\\\\\n",
       "\\hline\n",
       "\t1 & 1 & <1l    & <25   &  197 &  38 &  12.28179\\\\\n",
       "\t2 & 1 & <1l    & 25-29 &  264 &  35 &  21.41338\\\\\n",
       "\t3 & 1 & <1l    & 30-35 &  246 &  20 &  23.18834\\\\\n",
       "\t4 & 1 & <1l    & >35   & 1680 & 156 & 114.53119\\\\\n",
       "\t5 & 1 & 1-1.5l & <25   &  284 &  63 &  21.42436\\\\\n",
       "\t6 & 1 & 1-1.5l & 25-29 &  536 &  84 &  40.80568\\\\\n",
       "\\end{tabular}\n"
      ],
      "text/markdown": [
       "\n",
       "A data.frame: 6 × 6\n",
       "\n",
       "| <!--/--> | District &lt;fct&gt; | Group &lt;ord&gt; | Age &lt;ord&gt; | Holders &lt;int&gt; | Claims &lt;int&gt; | predicted &lt;dbl&gt; |\n",
       "|---|---|---|---|---|---|---|\n",
       "| 1 | 1 | &lt;1l    | &lt;25   |  197 |  38 |  12.28179 |\n",
       "| 2 | 1 | &lt;1l    | 25-29 |  264 |  35 |  21.41338 |\n",
       "| 3 | 1 | &lt;1l    | 30-35 |  246 |  20 |  23.18834 |\n",
       "| 4 | 1 | &lt;1l    | &gt;35   | 1680 | 156 | 114.53119 |\n",
       "| 5 | 1 | 1-1.5l | &lt;25   |  284 |  63 |  21.42436 |\n",
       "| 6 | 1 | 1-1.5l | 25-29 |  536 |  84 |  40.80568 |\n",
       "\n"
      ],
      "text/plain": [
       "  District Group  Age   Holders Claims predicted\n",
       "1 1        <1l    <25    197     38     12.28179\n",
       "2 1        <1l    25-29  264     35     21.41338\n",
       "3 1        <1l    30-35  246     20     23.18834\n",
       "4 1        <1l    >35   1680    156    114.53119\n",
       "5 1        1-1.5l <25    284     63     21.42436\n",
       "6 1        1-1.5l 25-29  536     84     40.80568"
      ]
     },
     "metadata": {},
     "output_type": "display_data"
    }
   ],
   "source": [
    "head(df_pois)"
   ]
  },
  {
   "cell_type": "code",
   "execution_count": 68,
   "id": "f770db03",
   "metadata": {
    "colab": {
     "base_uri": "https://localhost:8080/",
     "height": 34
    },
    "id": "f770db03",
    "outputId": "cb3a36d0-543e-41a2-c547-ae7273149136"
   },
   "outputs": [
    {
     "data": {
      "text/html": [
       "49.2343750000046"
      ],
      "text/latex": [
       "49.2343750000046"
      ],
      "text/markdown": [
       "49.2343750000046"
      ],
      "text/plain": [
       "[1] 49.23438"
      ]
     },
     "metadata": {},
     "output_type": "display_data"
    }
   ],
   "source": [
    "mean(df_pois$predicted)"
   ]
  },
  {
   "cell_type": "code",
   "execution_count": 70,
   "id": "f266efb0",
   "metadata": {
    "colab": {
     "base_uri": "https://localhost:8080/",
     "height": 437
    },
    "id": "f266efb0",
    "outputId": "af1cec1e-bd3b-4eb5-a507-309592686999"
   },
   "outputs": [
    {
     "data": {
      "image/png": "[encoded data removed]",
      "text/plain": [
       "plot without title"
      ]
     },
     "metadata": {
      "image/png": {
       "height": 420,
       "width": 420
      }
     },
     "output_type": "display_data"
    }
   ],
   "source": [
    "ggplot(df_pois, aes(x = Group, y = predicted)) +\n",
    "  geom_point() +\n",
    "  geom_line() +\n",
    "  labs(x = \"Group\", y = \"Predicted Claims\")"
   ]
  },
  {
   "cell_type": "markdown",
   "id": "2a244d34",
   "metadata": {
    "id": "2a244d34"
   },
   "source": [
    "### Confusion Matrix"
   ]
  },
  {
   "cell_type": "code",
   "execution_count": 81,
   "id": "1c8b081b",
   "metadata": {
    "id": "1c8b081b",
    "scrolled": false
   },
   "outputs": [
    {
     "data": {
      "text/html": [
       "<table class=\"dataframe\">\n",
       "<caption>A data.frame: 6 × 6</caption>\n",
       "<thead>\n",
       "\t<tr><th></th><th scope=col>Ozone</th><th scope=col>Solar.R</th><th scope=col>Wind</th><th scope=col>Temp</th><th scope=col>Month</th><th scope=col>Day</th></tr>\n",
       "\t<tr><th></th><th scope=col>&lt;int&gt;</th><th scope=col>&lt;int&gt;</th><th scope=col>&lt;dbl&gt;</th><th scope=col>&lt;int&gt;</th><th scope=col>&lt;int&gt;</th><th scope=col>&lt;int&gt;</th></tr>\n",
       "</thead>\n",
       "<tbody>\n",
       "\t<tr><th scope=row>1</th><td>41</td><td>190</td><td> 7.4</td><td>67</td><td>5</td><td>1</td></tr>\n",
       "\t<tr><th scope=row>2</th><td>36</td><td>118</td><td> 8.0</td><td>72</td><td>5</td><td>2</td></tr>\n",
       "\t<tr><th scope=row>3</th><td>12</td><td>149</td><td>12.6</td><td>74</td><td>5</td><td>3</td></tr>\n",
       "\t<tr><th scope=row>4</th><td>18</td><td>313</td><td>11.5</td><td>62</td><td>5</td><td>4</td></tr>\n",
       "\t<tr><th scope=row>5</th><td>NA</td><td> NA</td><td>14.3</td><td>56</td><td>5</td><td>5</td></tr>\n",
       "\t<tr><th scope=row>6</th><td>28</td><td> NA</td><td>14.9</td><td>66</td><td>5</td><td>6</td></tr>\n",
       "</tbody>\n",
       "</table>\n"
      ],
      "text/latex": [
       "A data.frame: 6 × 6\n",
       "\\begin{tabular}{r|llllll}\n",
       "  & Ozone & Solar.R & Wind & Temp & Month & Day\\\\\n",
       "  & <int> & <int> & <dbl> & <int> & <int> & <int>\\\\\n",
       "\\hline\n",
       "\t1 & 41 & 190 &  7.4 & 67 & 5 & 1\\\\\n",
       "\t2 & 36 & 118 &  8.0 & 72 & 5 & 2\\\\\n",
       "\t3 & 12 & 149 & 12.6 & 74 & 5 & 3\\\\\n",
       "\t4 & 18 & 313 & 11.5 & 62 & 5 & 4\\\\\n",
       "\t5 & NA &  NA & 14.3 & 56 & 5 & 5\\\\\n",
       "\t6 & 28 &  NA & 14.9 & 66 & 5 & 6\\\\\n",
       "\\end{tabular}\n"
      ],
      "text/markdown": [
       "\n",
       "A data.frame: 6 × 6\n",
       "\n",
       "| <!--/--> | Ozone &lt;int&gt; | Solar.R &lt;int&gt; | Wind &lt;dbl&gt; | Temp &lt;int&gt; | Month &lt;int&gt; | Day &lt;int&gt; |\n",
       "|---|---|---|---|---|---|---|\n",
       "| 1 | 41 | 190 |  7.4 | 67 | 5 | 1 |\n",
       "| 2 | 36 | 118 |  8.0 | 72 | 5 | 2 |\n",
       "| 3 | 12 | 149 | 12.6 | 74 | 5 | 3 |\n",
       "| 4 | 18 | 313 | 11.5 | 62 | 5 | 4 |\n",
       "| 5 | NA |  NA | 14.3 | 56 | 5 | 5 |\n",
       "| 6 | 28 |  NA | 14.9 | 66 | 5 | 6 |\n",
       "\n"
      ],
      "text/plain": [
       "  Ozone Solar.R Wind Temp Month Day\n",
       "1 41    190      7.4 67   5     1  \n",
       "2 36    118      8.0 72   5     2  \n",
       "3 12    149     12.6 74   5     3  \n",
       "4 18    313     11.5 62   5     4  \n",
       "5 NA     NA     14.3 56   5     5  \n",
       "6 28     NA     14.9 66   5     6  "
      ]
     },
     "metadata": {},
     "output_type": "display_data"
    }
   ],
   "source": [
    "library(ggplot2)"
   ]
  },
  {
   "cell_type": "code",
   "execution_count": 83,
   "id": "92642d9e",
   "metadata": {
    "colab": {
     "base_uri": "https://localhost:8080/",
     "height": 437
    },
    "id": "92642d9e",
    "outputId": "f11e5736-004e-4bb7-e4ae-6f049ce6a9c7"
   },
   "outputs": [
    {
     "name": "stdout",
     "output_type": "stream",
     "text": [
      "      Predicted\n",
      "Actual 0 1\n",
      "  10.4 2 0\n",
      "  13.3 1 0\n",
      "  14.3 1 0\n",
      "  14.7 1 0\n",
      "  15   0 1\n",
      "  15.2 2 0\n",
      "  15.5 1 0\n",
      "  15.8 0 1\n",
      "  16.4 1 0\n",
      "  17.3 1 0\n",
      "  17.8 1 0\n",
      "  18.1 1 0\n",
      "  18.7 1 0\n",
      "  19.2 2 0\n",
      "  19.7 0 1\n",
      "  21   0 2\n",
      "  21.4 1 1\n",
      "  21.5 1 0\n",
      "  22.8 0 2\n",
      "  24.4 0 1\n",
      "  26   0 1\n",
      "  27.3 0 1\n",
      "  30.4 0 2\n",
      "  32.4 0 1\n",
      "  33.9 0 1\n"
     ]
    }
   ],
   "source": [
    "# Make predictions\n",
    "pred <- predict(model_logit, type = \"response\")\n",
    "\n",
    "threshold <- 0.5\n",
    "pred_class <- ifelse(pred > threshold, 1, 0)\n",
    "conf_mat <- table(Actual = mtcars$mpg, Predicted = pred_class)\n",
    "print(conf_mat)"
   ]
  },
  {
   "cell_type": "markdown",
   "id": "858f6938",
   "metadata": {
    "id": "858f6938"
   },
   "source": [
    "### Roc curve"
   ]
  },
  {
   "cell_type": "code",
   "execution_count": 109,
   "id": "ac1895dd",
   "metadata": {
    "id": "ac1895dd"
   },
   "outputs": [],
   "source": [
    "library(pROC)\n",
    "library(ggplot2)\n",
    "library(mlbench)"
   ]
  },
  {
   "cell_type": "code",
   "execution_count": 111,
   "id": "d1b58a68",
   "metadata": {
    "colab": {
     "base_uri": "https://localhost:8080/",
     "height": 286
    },
    "id": "d1b58a68",
    "outputId": "303314a3-a101-43e3-8bcc-64297bdb0a15"
   },
   "outputs": [
    {
     "data": {
      "text/html": [
       "<table class=\"dataframe\">\n",
       "<caption>A data.frame: 6 × 3</caption>\n",
       "<thead>\n",
       "\t<tr><th></th><th scope=col>breaks</th><th scope=col>wool</th><th scope=col>tension</th></tr>\n",
       "\t<tr><th></th><th scope=col>&lt;dbl&gt;</th><th scope=col>&lt;fct&gt;</th><th scope=col>&lt;fct&gt;</th></tr>\n",
       "</thead>\n",
       "<tbody>\n",
       "\t<tr><th scope=row>1</th><td>26</td><td>A</td><td>L</td></tr>\n",
       "\t<tr><th scope=row>2</th><td>30</td><td>A</td><td>L</td></tr>\n",
       "\t<tr><th scope=row>3</th><td>54</td><td>A</td><td>L</td></tr>\n",
       "\t<tr><th scope=row>4</th><td>25</td><td>A</td><td>L</td></tr>\n",
       "\t<tr><th scope=row>5</th><td>70</td><td>A</td><td>L</td></tr>\n",
       "\t<tr><th scope=row>6</th><td>52</td><td>A</td><td>L</td></tr>\n",
       "</tbody>\n",
       "</table>\n"
      ],
      "text/latex": [
       "A data.frame: 6 × 3\n",
       "\\begin{tabular}{r|lll}\n",
       "  & breaks & wool & tension\\\\\n",
       "  & <dbl> & <fct> & <fct>\\\\\n",
       "\\hline\n",
       "\t1 & 26 & A & L\\\\\n",
       "\t2 & 30 & A & L\\\\\n",
       "\t3 & 54 & A & L\\\\\n",
       "\t4 & 25 & A & L\\\\\n",
       "\t5 & 70 & A & L\\\\\n",
       "\t6 & 52 & A & L\\\\\n",
       "\\end{tabular}\n"
      ],
      "text/markdown": [
       "\n",
       "A data.frame: 6 × 3\n",
       "\n",
       "| <!--/--> | breaks &lt;dbl&gt; | wool &lt;fct&gt; | tension &lt;fct&gt; |\n",
       "|---|---|---|---|\n",
       "| 1 | 26 | A | L |\n",
       "| 2 | 30 | A | L |\n",
       "| 3 | 54 | A | L |\n",
       "| 4 | 25 | A | L |\n",
       "| 5 | 70 | A | L |\n",
       "| 6 | 52 | A | L |\n",
       "\n"
      ],
      "text/plain": [
       "  breaks wool tension\n",
       "1 26     A    L      \n",
       "2 30     A    L      \n",
       "3 54     A    L      \n",
       "4 25     A    L      \n",
       "5 70     A    L      \n",
       "6 52     A    L      "
      ]
     },
     "metadata": {},
     "output_type": "display_data"
    }
   ],
   "source": [
    "data(warpbreaks)\n",
    "head(warpbreaks)"
   ]
  },
  {
   "cell_type": "code",
   "execution_count": 119,
   "id": "d08f6109",
   "metadata": {
    "id": "d08f6109",
    "scrolled": true
   },
   "outputs": [],
   "source": [
    "# Split the data into training and testing sets\n",
    "set.seed(123)\n",
    "trainIndex <- sample(nrow(warpbreaks), round(0.8 * nrow(warpbreaks)), replace='TRUE')\n",
    "trainData <- warpbreaks[trainIndex, ]\n",
    "testData <- warpbreaks[-trainIndex, ]"
   ]
  },
  {
   "cell_type": "code",
   "execution_count": 120,
   "id": "2041c8e9",
   "metadata": {
    "id": "2041c8e9",
    "scrolled": true
   },
   "outputs": [],
   "source": [
    "# Fit a logistic regression model on the training data\n",
    "model <- glm(wool ~., data = trainData, family = \"binomial\")"
   ]
  },
  {
   "cell_type": "code",
   "execution_count": 121,
   "id": "59b293e3",
   "metadata": {
    "id": "59b293e3"
   },
   "outputs": [],
   "source": [
    "# Make predictions on the testing data\n",
    "pred <- predict(model, newdata = testData, type = \"response\")"
   ]
  },
  {
   "cell_type": "code",
   "execution_count": 122,
   "id": "3302d51f",
   "metadata": {
    "colab": {
     "base_uri": "https://localhost:8080/"
    },
    "id": "3302d51f",
    "outputId": "38ca9d9f-a430-4b77-c2da-f261a93b638d"
   },
   "outputs": [
    {
     "name": "stderr",
     "output_type": "stream",
     "text": [
      "Setting levels: control = A, case = B\n",
      "\n",
      "Setting direction: controls > cases\n",
      "\n"
     ]
    }
   ],
   "source": [
    "# Create a ROC curve\n",
    "roc <- roc(testData$wool, pred)"
   ]
  },
  {
   "cell_type": "code",
   "execution_count": 123,
   "id": "NCSU9GMr8D8w",
   "metadata": {
    "colab": {
     "base_uri": "https://localhost:8080/",
     "height": 437
    },
    "id": "NCSU9GMr8D8w",
    "outputId": "9f896aa2-9283-4a2d-bfeb-b726925ae7e5"
   },
   "outputs": [
    {
     "data": {
      "image/png": "[encoded data removed]",
      "text/plain": [
       "plot without title"
      ]
     },
     "metadata": {
      "image/png": {
       "height": 420,
       "width": 420
      }
     },
     "output_type": "display_data"
    }
   ],
   "source": [
    "ggroc(roc, legacy.axes = TRUE)+\n",
    "  ggtitle(\"ROC curve for warpbreaks dataset\") +\n",
    "  xlab(\"False Positive Rate\") +\n",
    "  ylab(\"True Positive Rate\")"
   ]
  }
 ],
 "metadata": {
  "colab": {
   "provenance": []
  },
  "kernelspec": {
   "display_name": "R",
   "language": "R",
   "name": "ir"
  },
  "language_info": {
   "codemirror_mode": "r",
   "file_extension": ".r",
   "mimetype": "text/x-r-source",
   "name": "R",
   "pygments_lexer": "r",
   "version": "4.2.2"
  }
 },
 "nbformat": 4,
 "nbformat_minor": 5
}
