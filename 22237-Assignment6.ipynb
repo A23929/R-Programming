{
 "cells": [
  {
   "cell_type": "markdown",
   "id": "dbd60386",
   "metadata": {},
   "source": [
    "#### Name: Aniruddha \n",
    "#### Roll No. 22237\n",
    "#### Date: 29/03/2023\n",
    "#### R-Lab: Work on loading a csv file and working with Tidyverse\n",
    "#### Assignment 6"
   ]
  },
  {
   "cell_type": "markdown",
   "id": "1f988edb",
   "metadata": {},
   "source": [
    "## Load csv file"
   ]
  },
  {
   "cell_type": "code",
   "execution_count": 4,
   "id": "ef1259a2",
   "metadata": {
    "scrolled": true
   },
   "outputs": [
    {
     "name": "stdout",
     "output_type": "stream",
     "text": [
      "                 model  mpg cyl  disp  hp drat    wt  qsec vs am gear carb\n",
      "1            Mazda RX4 21.0   6 160.0 110 3.90 2.620 16.46  0  1    4    4\n",
      "2        Mazda RX4 Wag 21.0   6 160.0 110 3.90 2.875 17.02  0  1    4    4\n",
      "3           Datsun 710 22.8   4 108.0  93 3.85 2.320 18.61  1  1    4    1\n",
      "4       Hornet 4 Drive 21.4   6 258.0 110 3.08 3.215 19.44  1  0    3    1\n",
      "5    Hornet Sportabout 18.7   8 360.0 175 3.15 3.440 17.02  0  0    3    2\n",
      "6              Valiant 18.1   6 225.0 105 2.76 3.460 20.22  1  0    3    1\n",
      "7           Duster 360 14.3   8 360.0 245 3.21 3.570 15.84  0  0    3    4\n",
      "8            Merc 240D 24.4   4 146.7  62 3.69 3.190 20.00  1  0    4    2\n",
      "9             Merc 230 22.8   4 140.8  95 3.92 3.150 22.90  1  0    4    2\n",
      "10            Merc 280 19.2   6 167.6 123 3.92 3.440 18.30  1  0    4    4\n",
      "11           Merc 280C 17.8   6 167.6 123 3.92 3.440 18.90  1  0    4    4\n",
      "12          Merc 450SE 16.4   8 275.8 180 3.07 4.070 17.40  0  0    3    3\n",
      "13          Merc 450SL 17.3   8 275.8 180 3.07 3.730 17.60  0  0    3    3\n",
      "14         Merc 450SLC 15.2   8 275.8 180 3.07 3.780 18.00  0  0    3    3\n",
      "15  Cadillac Fleetwood 10.4   8 472.0 205 2.93 5.250 17.98  0  0    3    4\n",
      "16 Lincoln Continental 10.4   8 460.0 215 3.00 5.424 17.82  0  0    3    4\n",
      "17   Chrysler Imperial 14.7   8 440.0 230 3.23 5.345 17.42  0  0    3    4\n",
      "18            Fiat 128 32.4   4  78.7  66 4.08 2.200 19.47  1  1    4    1\n",
      "19         Honda Civic 30.4   4  75.7  52 4.93 1.615 18.52  1  1    4    2\n",
      "20      Toyota Corolla 33.9   4  71.1  65 4.22 1.835 19.90  1  1    4    1\n",
      "21       Toyota Corona 21.5   4 120.1  97 3.70 2.465 20.01  1  0    3    1\n",
      "22    Dodge Challenger 15.5   8 318.0 150 2.76 3.520 16.87  0  0    3    2\n",
      "23         AMC Javelin 15.2   8 304.0 150 3.15 3.435 17.30  0  0    3    2\n",
      "24          Camaro Z28 13.3   8 350.0 245 3.73 3.840 15.41  0  0    3    4\n",
      "25    Pontiac Firebird 19.2   8 400.0 175 3.08 3.845 17.05  0  0    3    2\n",
      "26           Fiat X1-9 27.3   4  79.0  66 4.08 1.935 18.90  1  1    4    1\n",
      "27       Porsche 914-2 26.0   4 120.3  91 4.43 2.140 16.70  0  1    5    2\n",
      "28        Lotus Europa 30.4   4  95.1 113 3.77 1.513 16.90  1  1    5    2\n",
      "29      Ford Pantera L 15.8   8 351.0 264 4.22 3.170 14.50  0  1    5    4\n",
      "30        Ferrari Dino 19.7   6 145.0 175 3.62 2.770 15.50  0  1    5    6\n",
      "31       Maserati Bora 15.0   8 301.0 335 3.54 3.570 14.60  0  1    5    8\n",
      "32          Volvo 142E 21.4   4 121.0 109 4.11 2.780 18.60  1  1    4    2\n"
     ]
    }
   ],
   "source": [
    "data <- read.csv(\"mtcars.csv\")\n",
    "print(data)"
   ]
  },
  {
   "cell_type": "code",
   "execution_count": 6,
   "id": "da33ef8d",
   "metadata": {},
   "outputs": [
    {
     "name": "stdout",
     "output_type": "stream",
     "text": [
      "[1] 12\n",
      "[1] 32\n"
     ]
    }
   ],
   "source": [
    "## checking the no of cols and rows in the data\n",
    "\n",
    "print(ncol(data))\n",
    "print(nrow(data))"
   ]
  },
  {
   "cell_type": "code",
   "execution_count": 7,
   "id": "7d7d67e8",
   "metadata": {},
   "outputs": [
    {
     "name": "stdout",
     "output_type": "stream",
     "text": [
      "[1] 8\n"
     ]
    }
   ],
   "source": [
    "## Get the maximum cylinder\n",
    "\n",
    "cyl <- max(data$cyl)\n",
    "print(cyl)\n",
    "     "
   ]
  },
  {
   "cell_type": "code",
   "execution_count": 9,
   "id": "33a6beee",
   "metadata": {},
   "outputs": [
    {
     "name": "stdout",
     "output_type": "stream",
     "text": [
      "                 model  mpg cyl  disp  hp drat    wt  qsec vs am gear carb\n",
      "5    Hornet Sportabout 18.7   8 360.0 175 3.15 3.440 17.02  0  0    3    2\n",
      "7           Duster 360 14.3   8 360.0 245 3.21 3.570 15.84  0  0    3    4\n",
      "12          Merc 450SE 16.4   8 275.8 180 3.07 4.070 17.40  0  0    3    3\n",
      "13          Merc 450SL 17.3   8 275.8 180 3.07 3.730 17.60  0  0    3    3\n",
      "14         Merc 450SLC 15.2   8 275.8 180 3.07 3.780 18.00  0  0    3    3\n",
      "15  Cadillac Fleetwood 10.4   8 472.0 205 2.93 5.250 17.98  0  0    3    4\n",
      "16 Lincoln Continental 10.4   8 460.0 215 3.00 5.424 17.82  0  0    3    4\n",
      "17   Chrysler Imperial 14.7   8 440.0 230 3.23 5.345 17.42  0  0    3    4\n",
      "22    Dodge Challenger 15.5   8 318.0 150 2.76 3.520 16.87  0  0    3    2\n",
      "23         AMC Javelin 15.2   8 304.0 150 3.15 3.435 17.30  0  0    3    2\n",
      "24          Camaro Z28 13.3   8 350.0 245 3.73 3.840 15.41  0  0    3    4\n",
      "25    Pontiac Firebird 19.2   8 400.0 175 3.08 3.845 17.05  0  0    3    2\n",
      "29      Ford Pantera L 15.8   8 351.0 264 4.22 3.170 14.50  0  1    5    4\n",
      "31       Maserati Bora 15.0   8 301.0 335 3.54 3.570 14.60  0  1    5    8\n"
     ]
    }
   ],
   "source": [
    "#Details of the automobile with max cylinders\n",
    "\n",
    "retval <- subset(data, cyl == max(cyl))\n",
    "print(retval)"
   ]
  },
  {
   "cell_type": "code",
   "execution_count": 31,
   "id": "3f4d992e",
   "metadata": {},
   "outputs": [
    {
     "name": "stdout",
     "output_type": "stream",
     "text": [
      "            model  mpg cyl disp  hp drat   wt qsec vs am gear carb\n",
      "29 Ford Pantera L 15.8   8  351 264 4.22 3.17 14.5  0  1    5    4\n"
     ]
    }
   ],
   "source": [
    "# Details of vehicles with high mpg, horsepower and gear\n",
    "\n",
    "info <- subset(data, hp > 200 & mpg > 15 & gear == 5)\n",
    "print(info)"
   ]
  },
  {
   "cell_type": "markdown",
   "id": "d6de38fc",
   "metadata": {},
   "source": [
    "## Tidyverse"
   ]
  },
  {
   "cell_type": "code",
   "execution_count": 32,
   "id": "1e76a98b",
   "metadata": {},
   "outputs": [
    {
     "name": "stderr",
     "output_type": "stream",
     "text": [
      "── \u001b[1mAttaching core tidyverse packages\u001b[22m ──────────────────────────────────────────────────────────────── tidyverse 2.0.0 ──\n",
      "\u001b[32m✔\u001b[39m \u001b[34mdplyr    \u001b[39m 1.1.0     \u001b[32m✔\u001b[39m \u001b[34mreadr    \u001b[39m 2.1.4\n",
      "\u001b[32m✔\u001b[39m \u001b[34mforcats  \u001b[39m 1.0.0     \u001b[32m✔\u001b[39m \u001b[34mstringr  \u001b[39m 1.5.0\n",
      "\u001b[32m✔\u001b[39m \u001b[34mggplot2  \u001b[39m 3.4.1     \u001b[32m✔\u001b[39m \u001b[34mtibble   \u001b[39m 3.2.0\n",
      "\u001b[32m✔\u001b[39m \u001b[34mlubridate\u001b[39m 1.9.2     \u001b[32m✔\u001b[39m \u001b[34mtidyr    \u001b[39m 1.3.0\n",
      "\u001b[32m✔\u001b[39m \u001b[34mpurrr    \u001b[39m 1.0.1     \n",
      "── \u001b[1mConflicts\u001b[22m ────────────────────────────────────────────────────────────────────────────────── tidyverse_conflicts() ──\n",
      "\u001b[31m✖\u001b[39m \u001b[34mdplyr\u001b[39m::\u001b[32mfilter()\u001b[39m masks \u001b[34mstats\u001b[39m::filter()\n",
      "\u001b[31m✖\u001b[39m \u001b[34mdplyr\u001b[39m::\u001b[32mlag()\u001b[39m    masks \u001b[34mstats\u001b[39m::lag()\n",
      "\u001b[36mℹ\u001b[39m Use the conflicted package (\u001b[3m\u001b[34m<http://conflicted.r-lib.org/>\u001b[39m\u001b[23m) to force all conflicts to become errors\n"
     ]
    }
   ],
   "source": [
    "library(tidyverse)"
   ]
  },
  {
   "cell_type": "code",
   "execution_count": 33,
   "id": "658fc36f",
   "metadata": {},
   "outputs": [
    {
     "name": "stdout",
     "output_type": "stream",
     "text": [
      "Rows: 32\n",
      "Columns: 11\n",
      "$ mpg  \u001b[3m\u001b[90m<dbl>\u001b[39m\u001b[23m 21.0, 21.0, 22.8, 21.4, 18.7, 18.1, 14.3, 24.4, 22.8, 19.2, 17.8,…\n",
      "$ cyl  \u001b[3m\u001b[90m<dbl>\u001b[39m\u001b[23m 6, 6, 4, 6, 8, 6, 8, 4, 4, 6, 6, 8, 8, 8, 8, 8, 8, 4, 4, 4, 4, 8,…\n",
      "$ disp \u001b[3m\u001b[90m<dbl>\u001b[39m\u001b[23m 160.0, 160.0, 108.0, 258.0, 360.0, 225.0, 360.0, 146.7, 140.8, 16…\n",
      "$ hp   \u001b[3m\u001b[90m<dbl>\u001b[39m\u001b[23m 110, 110, 93, 110, 175, 105, 245, 62, 95, 123, 123, 180, 180, 180…\n",
      "$ drat \u001b[3m\u001b[90m<dbl>\u001b[39m\u001b[23m 3.90, 3.90, 3.85, 3.08, 3.15, 2.76, 3.21, 3.69, 3.92, 3.92, 3.92,…\n",
      "$ wt   \u001b[3m\u001b[90m<dbl>\u001b[39m\u001b[23m 2.620, 2.875, 2.320, 3.215, 3.440, 3.460, 3.570, 3.190, 3.150, 3.…\n",
      "$ qsec \u001b[3m\u001b[90m<dbl>\u001b[39m\u001b[23m 16.46, 17.02, 18.61, 19.44, 17.02, 20.22, 15.84, 20.00, 22.90, 18…\n",
      "$ vs   \u001b[3m\u001b[90m<dbl>\u001b[39m\u001b[23m 0, 0, 1, 1, 0, 1, 0, 1, 1, 1, 1, 0, 0, 0, 0, 0, 0, 1, 1, 1, 1, 0,…\n",
      "$ am   \u001b[3m\u001b[90m<dbl>\u001b[39m\u001b[23m 1, 1, 1, 0, 0, 0, 0, 0, 0, 0, 0, 0, 0, 0, 0, 0, 0, 1, 1, 1, 0, 0,…\n",
      "$ gear \u001b[3m\u001b[90m<dbl>\u001b[39m\u001b[23m 4, 4, 4, 3, 3, 3, 3, 4, 4, 4, 4, 3, 3, 3, 3, 3, 3, 4, 4, 4, 3, 3,…\n",
      "$ carb \u001b[3m\u001b[90m<dbl>\u001b[39m\u001b[23m 4, 4, 1, 1, 2, 1, 4, 2, 2, 4, 4, 3, 3, 3, 4, 4, 4, 1, 2, 1, 1, 2,…\n"
     ]
    }
   ],
   "source": [
    "glimpse(mtcars)"
   ]
  },
  {
   "cell_type": "code",
   "execution_count": 34,
   "id": "908db1a9",
   "metadata": {},
   "outputs": [
    {
     "data": {
      "text/html": [
       "<table class=\"dataframe\">\n",
       "<caption>A tibble: 3 × 2</caption>\n",
       "<thead>\n",
       "\t<tr><th scope=col>cyl</th><th scope=col>avg_mpg</th></tr>\n",
       "\t<tr><th scope=col>&lt;dbl&gt;</th><th scope=col>&lt;dbl&gt;</th></tr>\n",
       "</thead>\n",
       "<tbody>\n",
       "\t<tr><td>4</td><td>26.66364</td></tr>\n",
       "\t<tr><td>6</td><td>19.74286</td></tr>\n",
       "\t<tr><td>8</td><td>15.10000</td></tr>\n",
       "</tbody>\n",
       "</table>\n"
      ],
      "text/latex": [
       "A tibble: 3 × 2\n",
       "\\begin{tabular}{ll}\n",
       " cyl & avg\\_mpg\\\\\n",
       " <dbl> & <dbl>\\\\\n",
       "\\hline\n",
       "\t 4 & 26.66364\\\\\n",
       "\t 6 & 19.74286\\\\\n",
       "\t 8 & 15.10000\\\\\n",
       "\\end{tabular}\n"
      ],
      "text/markdown": [
       "\n",
       "A tibble: 3 × 2\n",
       "\n",
       "| cyl &lt;dbl&gt; | avg_mpg &lt;dbl&gt; |\n",
       "|---|---|\n",
       "| 4 | 26.66364 |\n",
       "| 6 | 19.74286 |\n",
       "| 8 | 15.10000 |\n",
       "\n"
      ],
      "text/plain": [
       "  cyl avg_mpg \n",
       "1 4   26.66364\n",
       "2 6   19.74286\n",
       "3 8   15.10000"
      ]
     },
     "metadata": {},
     "output_type": "display_data"
    }
   ],
   "source": [
    "# create a new variable that calculates the average miles per gallon (mpg) for each number of cylinders (cyl).\n",
    "\n",
    "mpg_by_cyl <- mtcars %>%\n",
    "  group_by(cyl) %>%\n",
    "  summarize(avg_mpg = mean(mpg))\n",
    "\n",
    "mpg_by_cyl\n"
   ]
  },
  {
   "cell_type": "code",
   "execution_count": 36,
   "id": "a19e41d5",
   "metadata": {
    "scrolled": true
   },
   "outputs": [
    {
     "data": {
      "text/html": [
       "<table class=\"dataframe\">\n",
       "<caption>A data.frame: 5 × 11</caption>\n",
       "<thead>\n",
       "\t<tr><th></th><th scope=col>mpg</th><th scope=col>cyl</th><th scope=col>disp</th><th scope=col>hp</th><th scope=col>drat</th><th scope=col>wt</th><th scope=col>qsec</th><th scope=col>vs</th><th scope=col>am</th><th scope=col>gear</th><th scope=col>carb</th></tr>\n",
       "\t<tr><th></th><th scope=col>&lt;dbl&gt;</th><th scope=col>&lt;dbl&gt;</th><th scope=col>&lt;dbl&gt;</th><th scope=col>&lt;dbl&gt;</th><th scope=col>&lt;dbl&gt;</th><th scope=col>&lt;dbl&gt;</th><th scope=col>&lt;dbl&gt;</th><th scope=col>&lt;dbl&gt;</th><th scope=col>&lt;dbl&gt;</th><th scope=col>&lt;dbl&gt;</th><th scope=col>&lt;dbl&gt;</th></tr>\n",
       "</thead>\n",
       "<tbody>\n",
       "\t<tr><th scope=row>Mazda RX4</th><td>21.0</td><td>6</td><td>160.0</td><td>110</td><td>3.90</td><td>2.620</td><td>16.46</td><td>0</td><td>1</td><td>4</td><td>4</td></tr>\n",
       "\t<tr><th scope=row>Mazda RX4 Wag</th><td>21.0</td><td>6</td><td>160.0</td><td>110</td><td>3.90</td><td>2.875</td><td>17.02</td><td>0</td><td>1</td><td>4</td><td>4</td></tr>\n",
       "\t<tr><th scope=row>Hornet 4 Drive</th><td>21.4</td><td>6</td><td>258.0</td><td>110</td><td>3.08</td><td>3.215</td><td>19.44</td><td>1</td><td>0</td><td>3</td><td>1</td></tr>\n",
       "\t<tr><th scope=row>Lotus Europa</th><td>30.4</td><td>4</td><td> 95.1</td><td>113</td><td>3.77</td><td>1.513</td><td>16.90</td><td>1</td><td>1</td><td>5</td><td>2</td></tr>\n",
       "\t<tr><th scope=row>Volvo 142E</th><td>21.4</td><td>4</td><td>121.0</td><td>109</td><td>4.11</td><td>2.780</td><td>18.60</td><td>1</td><td>1</td><td>4</td><td>2</td></tr>\n",
       "</tbody>\n",
       "</table>\n"
      ],
      "text/latex": [
       "A data.frame: 5 × 11\n",
       "\\begin{tabular}{r|lllllllllll}\n",
       "  & mpg & cyl & disp & hp & drat & wt & qsec & vs & am & gear & carb\\\\\n",
       "  & <dbl> & <dbl> & <dbl> & <dbl> & <dbl> & <dbl> & <dbl> & <dbl> & <dbl> & <dbl> & <dbl>\\\\\n",
       "\\hline\n",
       "\tMazda RX4 & 21.0 & 6 & 160.0 & 110 & 3.90 & 2.620 & 16.46 & 0 & 1 & 4 & 4\\\\\n",
       "\tMazda RX4 Wag & 21.0 & 6 & 160.0 & 110 & 3.90 & 2.875 & 17.02 & 0 & 1 & 4 & 4\\\\\n",
       "\tHornet 4 Drive & 21.4 & 6 & 258.0 & 110 & 3.08 & 3.215 & 19.44 & 1 & 0 & 3 & 1\\\\\n",
       "\tLotus Europa & 30.4 & 4 &  95.1 & 113 & 3.77 & 1.513 & 16.90 & 1 & 1 & 5 & 2\\\\\n",
       "\tVolvo 142E & 21.4 & 4 & 121.0 & 109 & 4.11 & 2.780 & 18.60 & 1 & 1 & 4 & 2\\\\\n",
       "\\end{tabular}\n"
      ],
      "text/markdown": [
       "\n",
       "A data.frame: 5 × 11\n",
       "\n",
       "| <!--/--> | mpg &lt;dbl&gt; | cyl &lt;dbl&gt; | disp &lt;dbl&gt; | hp &lt;dbl&gt; | drat &lt;dbl&gt; | wt &lt;dbl&gt; | qsec &lt;dbl&gt; | vs &lt;dbl&gt; | am &lt;dbl&gt; | gear &lt;dbl&gt; | carb &lt;dbl&gt; |\n",
       "|---|---|---|---|---|---|---|---|---|---|---|---|\n",
       "| Mazda RX4 | 21.0 | 6 | 160.0 | 110 | 3.90 | 2.620 | 16.46 | 0 | 1 | 4 | 4 |\n",
       "| Mazda RX4 Wag | 21.0 | 6 | 160.0 | 110 | 3.90 | 2.875 | 17.02 | 0 | 1 | 4 | 4 |\n",
       "| Hornet 4 Drive | 21.4 | 6 | 258.0 | 110 | 3.08 | 3.215 | 19.44 | 1 | 0 | 3 | 1 |\n",
       "| Lotus Europa | 30.4 | 4 |  95.1 | 113 | 3.77 | 1.513 | 16.90 | 1 | 1 | 5 | 2 |\n",
       "| Volvo 142E | 21.4 | 4 | 121.0 | 109 | 4.11 | 2.780 | 18.60 | 1 | 1 | 4 | 2 |\n",
       "\n"
      ],
      "text/plain": [
       "               mpg  cyl disp  hp  drat wt    qsec  vs am gear carb\n",
       "Mazda RX4      21.0 6   160.0 110 3.90 2.620 16.46 0  1  4    4   \n",
       "Mazda RX4 Wag  21.0 6   160.0 110 3.90 2.875 17.02 0  1  4    4   \n",
       "Hornet 4 Drive 21.4 6   258.0 110 3.08 3.215 19.44 1  0  3    1   \n",
       "Lotus Europa   30.4 4    95.1 113 3.77 1.513 16.90 1  1  5    2   \n",
       "Volvo 142E     21.4 4   121.0 109 4.11 2.780 18.60 1  1  4    2   "
      ]
     },
     "metadata": {},
     "output_type": "display_data"
    }
   ],
   "source": [
    "filtered_mtcars <- mtcars %>%\n",
    "  filter(hp > 100, mpg > 20)\n",
    "filtered_mtcars"
   ]
  },
  {
   "cell_type": "markdown",
   "id": "6567a10e",
   "metadata": {},
   "source": [
    "## Purrr package"
   ]
  },
  {
   "cell_type": "code",
   "execution_count": 38,
   "id": "03502112",
   "metadata": {},
   "outputs": [
    {
     "data": {
      "text/html": [
       "<style>\n",
       ".dl-inline {width: auto; margin:0; padding: 0}\n",
       ".dl-inline>dt, .dl-inline>dd {float: none; width: auto; display: inline-block}\n",
       ".dl-inline>dt::after {content: \":\\0020\"; padding-right: .5ex}\n",
       ".dl-inline>dt:not(:first-of-type) {padding-left: .5ex}\n",
       "</style><dl class=dl-inline><dt>mpg</dt><dd>20.090625</dd><dt>cyl</dt><dd>6.1875</dd><dt>disp</dt><dd>230.721875</dd><dt>hp</dt><dd>146.6875</dd><dt>drat</dt><dd>3.5965625</dd><dt>wt</dt><dd>3.21725</dd><dt>qsec</dt><dd>17.84875</dd><dt>vs</dt><dd>0.4375</dd><dt>am</dt><dd>0.40625</dd><dt>gear</dt><dd>3.6875</dd><dt>carb</dt><dd>2.8125</dd></dl>\n"
      ],
      "text/latex": [
       "\\begin{description*}\n",
       "\\item[mpg] 20.090625\n",
       "\\item[cyl] 6.1875\n",
       "\\item[disp] 230.721875\n",
       "\\item[hp] 146.6875\n",
       "\\item[drat] 3.5965625\n",
       "\\item[wt] 3.21725\n",
       "\\item[qsec] 17.84875\n",
       "\\item[vs] 0.4375\n",
       "\\item[am] 0.40625\n",
       "\\item[gear] 3.6875\n",
       "\\item[carb] 2.8125\n",
       "\\end{description*}\n"
      ],
      "text/markdown": [
       "mpg\n",
       ":   20.090625cyl\n",
       ":   6.1875disp\n",
       ":   230.721875hp\n",
       ":   146.6875drat\n",
       ":   3.5965625wt\n",
       ":   3.21725qsec\n",
       ":   17.84875vs\n",
       ":   0.4375am\n",
       ":   0.40625gear\n",
       ":   3.6875carb\n",
       ":   2.8125\n",
       "\n"
      ],
      "text/plain": [
       "       mpg        cyl       disp         hp       drat         wt       qsec \n",
       " 20.090625   6.187500 230.721875 146.687500   3.596563   3.217250  17.848750 \n",
       "        vs         am       gear       carb \n",
       "  0.437500   0.406250   3.687500   2.812500 "
      ]
     },
     "metadata": {},
     "output_type": "display_data"
    }
   ],
   "source": [
    "mtcars_means <- map_dbl(mtcars, mean)\n",
    "mtcars_means"
   ]
  },
  {
   "cell_type": "markdown",
   "id": "7575a05b",
   "metadata": {},
   "source": [
    "## Stringr package"
   ]
  },
  {
   "cell_type": "code",
   "execution_count": 39,
   "id": "f36d3f9f",
   "metadata": {},
   "outputs": [
    {
     "data": {
      "text/html": [
       "<style>\n",
       ".list-inline {list-style: none; margin:0; padding: 0}\n",
       ".list-inline>li {display: inline-block}\n",
       ".list-inline>li:not(:last-child)::after {content: \"\\00b7\"; padding: 0 .5ex}\n",
       "</style>\n",
       "<ol class=list-inline><li>'Mazda'</li><li>'Mazda'</li><li>'Datsun'</li><li>'Hornet'</li><li>'Hornet'</li><li>'Valiant'</li><li>'Duster'</li><li>'Merc'</li><li>'Merc'</li><li>'Merc'</li><li>'Merc'</li><li>'Merc'</li><li>'Merc'</li><li>'Merc'</li><li>'Cadillac'</li><li>'Lincoln'</li><li>'Chrysler'</li><li>'Fiat'</li><li>'Honda'</li><li>'Toyota'</li><li>'Toyota'</li><li>'Dodge'</li><li>'AMC'</li><li>'Camaro'</li><li>'Pontiac'</li><li>'Fiat'</li><li>'Porsche'</li><li>'Lotus'</li><li>'Ford'</li><li>'Ferrari'</li><li>'Maserati'</li><li>'Volvo'</li></ol>\n"
      ],
      "text/latex": [
       "\\begin{enumerate*}\n",
       "\\item 'Mazda'\n",
       "\\item 'Mazda'\n",
       "\\item 'Datsun'\n",
       "\\item 'Hornet'\n",
       "\\item 'Hornet'\n",
       "\\item 'Valiant'\n",
       "\\item 'Duster'\n",
       "\\item 'Merc'\n",
       "\\item 'Merc'\n",
       "\\item 'Merc'\n",
       "\\item 'Merc'\n",
       "\\item 'Merc'\n",
       "\\item 'Merc'\n",
       "\\item 'Merc'\n",
       "\\item 'Cadillac'\n",
       "\\item 'Lincoln'\n",
       "\\item 'Chrysler'\n",
       "\\item 'Fiat'\n",
       "\\item 'Honda'\n",
       "\\item 'Toyota'\n",
       "\\item 'Toyota'\n",
       "\\item 'Dodge'\n",
       "\\item 'AMC'\n",
       "\\item 'Camaro'\n",
       "\\item 'Pontiac'\n",
       "\\item 'Fiat'\n",
       "\\item 'Porsche'\n",
       "\\item 'Lotus'\n",
       "\\item 'Ford'\n",
       "\\item 'Ferrari'\n",
       "\\item 'Maserati'\n",
       "\\item 'Volvo'\n",
       "\\end{enumerate*}\n"
      ],
      "text/markdown": [
       "1. 'Mazda'\n",
       "2. 'Mazda'\n",
       "3. 'Datsun'\n",
       "4. 'Hornet'\n",
       "5. 'Hornet'\n",
       "6. 'Valiant'\n",
       "7. 'Duster'\n",
       "8. 'Merc'\n",
       "9. 'Merc'\n",
       "10. 'Merc'\n",
       "11. 'Merc'\n",
       "12. 'Merc'\n",
       "13. 'Merc'\n",
       "14. 'Merc'\n",
       "15. 'Cadillac'\n",
       "16. 'Lincoln'\n",
       "17. 'Chrysler'\n",
       "18. 'Fiat'\n",
       "19. 'Honda'\n",
       "20. 'Toyota'\n",
       "21. 'Toyota'\n",
       "22. 'Dodge'\n",
       "23. 'AMC'\n",
       "24. 'Camaro'\n",
       "25. 'Pontiac'\n",
       "26. 'Fiat'\n",
       "27. 'Porsche'\n",
       "28. 'Lotus'\n",
       "29. 'Ford'\n",
       "30. 'Ferrari'\n",
       "31. 'Maserati'\n",
       "32. 'Volvo'\n",
       "\n",
       "\n"
      ],
      "text/plain": [
       " [1] \"Mazda\"    \"Mazda\"    \"Datsun\"   \"Hornet\"   \"Hornet\"   \"Valiant\" \n",
       " [7] \"Duster\"   \"Merc\"     \"Merc\"     \"Merc\"     \"Merc\"     \"Merc\"    \n",
       "[13] \"Merc\"     \"Merc\"     \"Cadillac\" \"Lincoln\"  \"Chrysler\" \"Fiat\"    \n",
       "[19] \"Honda\"    \"Toyota\"   \"Toyota\"   \"Dodge\"    \"AMC\"      \"Camaro\"  \n",
       "[25] \"Pontiac\"  \"Fiat\"     \"Porsche\"  \"Lotus\"    \"Ford\"     \"Ferrari\" \n",
       "[31] \"Maserati\" \"Volvo\"   "
      ]
     },
     "metadata": {},
     "output_type": "display_data"
    }
   ],
   "source": [
    "# Create a character vector of car model names\n",
    "car_models <- rownames(mtcars)\n",
    "\n",
    "# Extract the first word of each car model name\n",
    "first_words <- str_extract(car_models, \"\\\\w+\")\n",
    "\n",
    "# Print the first word of each car model name\n",
    "first_words\n"
   ]
  }
 ],
 "metadata": {
  "kernelspec": {
   "display_name": "R",
   "language": "R",
   "name": "ir"
  },
  "language_info": {
   "codemirror_mode": "r",
   "file_extension": ".r",
   "mimetype": "text/x-r-source",
   "name": "R",
   "pygments_lexer": "r",
   "version": "4.2.2"
  }
 },
 "nbformat": 4,
 "nbformat_minor": 5
}
