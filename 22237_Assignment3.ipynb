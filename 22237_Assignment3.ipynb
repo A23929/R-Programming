{
  "cells": [
    {
      "cell_type": "markdown",
      "metadata": {
        "id": "view-in-github",
        "colab_type": "text"
      },
      "source": [
        "<a href=\"https://colab.research.google.com/github/A23929/R-Programming/blob/main/22237_Assignment3.ipynb\" target=\"_parent\"><img src=\"https://colab.research.google.com/assets/colab-badge.svg\" alt=\"Open In Colab\"/></a>"
      ]
    },
    {
      "cell_type": "markdown",
      "source": [
        "### Name: Aniruddha \n",
        "### Roll No. 22237\n",
        "### Date: 8/3/23\n",
        "### Assignment 3"
      ],
      "metadata": {
        "id": "j72p5W4rfvmn"
      },
      "id": "j72p5W4rfvmn"
    },
    {
      "cell_type": "markdown",
      "id": "6a91d05d",
      "metadata": {
        "id": "6a91d05d"
      },
      "source": [
        "#### User-defined Function"
      ]
    },
    {
      "cell_type": "code",
      "execution_count": null,
      "id": "32ead081",
      "metadata": {
        "id": "32ead081"
      },
      "outputs": [],
      "source": [
        "# Function to print cube of a range of numbers\n",
        "Cube <- function()\n",
        "{\n",
        "    for (i in 1:4)\n",
        "    {\n",
        "        b <- i^3\n",
        "        print(b)\n",
        "    }\n",
        "}"
      ]
    },
    {
      "cell_type": "markdown",
      "id": "503fcbd4",
      "metadata": {
        "id": "503fcbd4"
      },
      "source": [
        "#### Calling a Function without an Argument"
      ]
    },
    {
      "cell_type": "code",
      "execution_count": null,
      "id": "c164dd37",
      "metadata": {
        "id": "c164dd37",
        "outputId": "8b506020-2e3c-42ca-b3f5-692b59b78f50"
      },
      "outputs": [
        {
          "name": "stdout",
          "output_type": "stream",
          "text": [
            "[1] 1\n",
            "[1] 8\n",
            "[1] 27\n",
            "[1] 64\n"
          ]
        }
      ],
      "source": [
        "# \n",
        "Cube()"
      ]
    },
    {
      "cell_type": "markdown",
      "id": "ab8f2f34",
      "metadata": {
        "id": "ab8f2f34"
      },
      "source": [
        "#### Function to get dot product of 2 vectors"
      ]
    },
    {
      "cell_type": "code",
      "execution_count": null,
      "id": "bbbd6c74",
      "metadata": {
        "id": "bbbd6c74"
      },
      "outputs": [],
      "source": [
        "dot <- function(a,b)\n",
        "{\n",
        "    s=0\n",
        "    for (i in 1:3)\n",
        "    {\n",
        "        s = s + a[i]*b[i]\n",
        "    }\n",
        "    print(s)\n",
        "}"
      ]
    },
    {
      "cell_type": "code",
      "execution_count": null,
      "id": "6900084f",
      "metadata": {
        "id": "6900084f",
        "outputId": "ff00a95d-d237-4b92-829a-6bfd6c434ce1"
      },
      "outputs": [
        {
          "name": "stdout",
          "output_type": "stream",
          "text": [
            "[1] 11\n"
          ]
        }
      ],
      "source": [
        "dot(c(1,2,3),c(4,2,1))"
      ]
    },
    {
      "cell_type": "markdown",
      "id": "359bbee8",
      "metadata": {
        "id": "359bbee8"
      },
      "source": [
        "#### Lazy Evaluation of Function\n",
        "Arguments to functions are evaluated lazily, which means so they are evaluated only when needed\n",
        "by the function body."
      ]
    },
    {
      "cell_type": "code",
      "execution_count": null,
      "id": "f12817df",
      "metadata": {
        "id": "f12817df"
      },
      "outputs": [],
      "source": [
        "mean_of_vector = function(a, mean_){ # mean_ is not evaluated unless it is accessed\n",
        "    \n",
        "    print(a)\n",
        "    # paste(\"The mean of a is \", mean_)  \n",
        "}"
      ]
    },
    {
      "cell_type": "code",
      "execution_count": null,
      "id": "185f6728",
      "metadata": {
        "id": "185f6728",
        "outputId": "5e6e74f9-928c-463d-efc7-c365d494d669"
      },
      "outputs": [
        {
          "name": "stdout",
          "output_type": "stream",
          "text": [
            "[1]   1   2   4   1 134\n"
          ]
        }
      ],
      "source": [
        "mean_of_vector(c(1,2,4,1,134))"
      ]
    },
    {
      "cell_type": "markdown",
      "id": "eae35371",
      "metadata": {
        "id": "eae35371"
      },
      "source": [
        "#### Function to get area of triangle using Heron's formula"
      ]
    },
    {
      "cell_type": "code",
      "execution_count": null,
      "id": "c7fae407",
      "metadata": {
        "id": "c7fae407"
      },
      "outputs": [],
      "source": [
        "area = function(a,b,c){\n",
        "    \n",
        "    s = (a+b+c)/2\n",
        "    print(sqrt(s*(s-a)*(s-b)*(s-c)))\n",
        "}"
      ]
    },
    {
      "cell_type": "code",
      "execution_count": null,
      "id": "f7a1d4ff",
      "metadata": {
        "id": "f7a1d4ff",
        "outputId": "5eef66db-a086-47c1-fb70-a25400f218a3"
      },
      "outputs": [
        {
          "name": "stdout",
          "output_type": "stream",
          "text": [
            "[1] 1.984313\n"
          ]
        }
      ],
      "source": [
        "area(3,2,2)"
      ]
    },
    {
      "cell_type": "markdown",
      "id": "f7bcb69d",
      "metadata": {
        "id": "f7bcb69d"
      },
      "source": [
        "#### Write a function within another"
      ]
    },
    {
      "cell_type": "code",
      "execution_count": null,
      "id": "0e95bb7d",
      "metadata": {
        "id": "0e95bb7d",
        "outputId": "a8bbf6fc-3b8a-4322-b255-a061d4d20e28"
      },
      "outputs": [
        {
          "data": {
            "text/html": [
              "8"
            ],
            "text/latex": [
              "8"
            ],
            "text/markdown": [
              "8"
            ],
            "text/plain": [
              "[1] 8"
            ]
          },
          "metadata": {},
          "output_type": "display_data"
        }
      ],
      "source": [
        "Outer_func <- function(x) {\n",
        "  Inner_func <- function(y) {\n",
        "    a <- x + y\n",
        "    return(a)\n",
        "  }\n",
        "}\n",
        "output <- Outer_func(3) # To call the Outer_func\n",
        "output(5)"
      ]
    },
    {
      "cell_type": "markdown",
      "id": "9cf0b60e",
      "metadata": {
        "id": "9cf0b60e"
      },
      "source": [
        "#### Call a function within another function:"
      ]
    },
    {
      "cell_type": "code",
      "execution_count": null,
      "id": "681598f8",
      "metadata": {
        "id": "681598f8",
        "outputId": "af6a85c9-693b-4117-a266-87fdd87b34a9"
      },
      "outputs": [
        {
          "data": {
            "text/html": [
              "10"
            ],
            "text/latex": [
              "10"
            ],
            "text/markdown": [
              "10"
            ],
            "text/plain": [
              "[1] 10"
            ]
          },
          "metadata": {},
          "output_type": "display_data"
        }
      ],
      "source": [
        "Nested <- function(x, y) {\n",
        "  a <- x + y\n",
        "  return(a)\n",
        "}\n",
        "\n",
        "Nested(Nested(2,2), Nested(3,3))"
      ]
    }
  ],
  "metadata": {
    "kernelspec": {
      "display_name": "R",
      "language": "R",
      "name": "ir"
    },
    "language_info": {
      "codemirror_mode": "r",
      "file_extension": ".r",
      "mimetype": "text/x-r-source",
      "name": "R",
      "pygments_lexer": "r",
      "version": "4.2.2"
    },
    "colab": {
      "provenance": [],
      "include_colab_link": true
    }
  },
  "nbformat": 4,
  "nbformat_minor": 5
}