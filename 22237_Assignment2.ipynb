{
  "cells": [
    {
      "cell_type": "markdown",
      "metadata": {
        "id": "view-in-github",
        "colab_type": "text"
      },
      "source": [
        "<a href=\"https://colab.research.google.com/github/A23929/R-Programming/blob/main/22237_Assignment2.ipynb\" target=\"_parent\"><img src=\"https://colab.research.google.com/assets/colab-badge.svg\" alt=\"Open In Colab\"/></a>"
      ]
    },
    {
      "cell_type": "markdown",
      "id": "e6776105",
      "metadata": {
        "id": "e6776105"
      },
      "source": [
        "#### Matrix operations"
      ]
    },
    {
      "cell_type": "code",
      "execution_count": null,
      "id": "c308e44e",
      "metadata": {
        "id": "c308e44e",
        "outputId": "bba2f728-16a8-4d76-a547-20672e723ce9"
      },
      "outputs": [
        {
          "name": "stdout",
          "output_type": "stream",
          "text": [
            "     [,1] [,2]\n",
            "[1,]    1   34\n",
            "[2,]    2    1\n",
            "     [,1] [,2]\n",
            "[1,]    5    7\n",
            "[2,]  -23    2\n",
            "Result of addition \n",
            "     [,1] [,2]\n",
            "[1,]    6   41\n",
            "[2,]  -21    3\n",
            "Result of subtraction \n",
            "     [,1] [,2]\n",
            "[1,]   -4   27\n",
            "[2,]   25   -1\n"
          ]
        }
      ],
      "source": [
        "# Create two 2x2 matrices.\n",
        "matrix1 <- matrix(c(1,2,34,1), nrow = 2)\n",
        "print(matrix1)\n",
        "\n",
        "matrix2 <- matrix(c(5,-23,7,2), nrow = 2)\n",
        "print(matrix2)\n",
        "\n",
        "# Add the matrices.\n",
        "result <- matrix1 + matrix2\n",
        "cat(\"Result of addition:\",\"\\n\")\n",
        "print(result)\n",
        "\n",
        "# Subtract the matrices\n",
        "result <- matrix1 - matrix2\n",
        "cat(\"Result of subtraction:\",\"\\n\")\n",
        "print(result)"
      ]
    },
    {
      "cell_type": "code",
      "execution_count": null,
      "id": "348e163d",
      "metadata": {
        "id": "348e163d",
        "outputId": "744232bb-750c-4082-babe-724f106977e7"
      },
      "outputs": [
        {
          "name": "stdout",
          "output_type": "stream",
          "text": [
            "     [,1] [,2] [,3] [,4]\n",
            "[1,]    1    1    0    0\n",
            "[2,]    8   -3   -1    2\n",
            "     [,1] [,2]\n",
            "[1,]    1    8\n",
            "[2,]    1   -3\n",
            "[3,]    0   -1\n",
            "[4,]    0    2\n",
            "     [,1] [,2]\n",
            "[1,]    2    5\n",
            "[2,]    5   78\n"
          ]
        }
      ],
      "source": [
        "M = matrix(c(1,1,0,0,8,-3,-1,2), nrow=2,ncol=4,byrow = TRUE)\n",
        "print(M) \n",
        "print(t(M))\n",
        "t = M %*% t(M) #Matrix multiplication with transpose\n",
        "print(t)"
      ]
    },
    {
      "cell_type": "markdown",
      "id": "78bdbbea",
      "metadata": {
        "id": "78bdbbea"
      },
      "source": [
        "#### Control structures"
      ]
    },
    {
      "cell_type": "code",
      "execution_count": null,
      "id": "50012a53",
      "metadata": {
        "id": "50012a53",
        "outputId": "c30403f5-e408-4c3f-cb8e-24df7167f23f"
      },
      "outputs": [
        {
          "name": "stdout",
          "output_type": "stream",
          "text": [
            "[1] 2\n",
            "[1] 4\n"
          ]
        }
      ],
      "source": [
        "a <- 2\n",
        "b <- 3\n",
        "if(a<1)\n",
        "    {\n",
        "    b <- 32\n",
        "} else if(a==1)\n",
        "{\n",
        "    b <- 9\n",
        "} else\n",
        "{\n",
        "    b <- a\n",
        "}\n",
        "\n",
        "for(i in 1:a)\n",
        "    print(i*2)"
      ]
    },
    {
      "cell_type": "markdown",
      "id": "67a6be0b",
      "metadata": {
        "id": "67a6be0b"
      },
      "source": [
        "#### If else and for loop"
      ]
    },
    {
      "cell_type": "code",
      "execution_count": null,
      "id": "44599ac7",
      "metadata": {
        "id": "44599ac7"
      },
      "outputs": [],
      "source": [
        "a <- c(2L,3.1,4,1,4.2,1,3,1,5,4.1)"
      ]
    },
    {
      "cell_type": "code",
      "execution_count": null,
      "id": "3cfd65d3",
      "metadata": {
        "id": "3cfd65d3",
        "outputId": "c3769fc9-c880-462c-f160-e09f39613758"
      },
      "outputs": [
        {
          "name": "stdout",
          "output_type": "stream",
          "text": [
            " [1] 2.0 3.1 4.0 1.0 4.2 1.0 3.0 1.0 5.0 4.1\n"
          ]
        }
      ],
      "source": [
        "for(i in 1:10)\n",
        "{\n",
        "    if(is.integer(a[i]))\n",
        "    \n",
        "        a[i] = 0.0\n",
        "    else\n",
        "        next # Go to the next iteration \n",
        "    a[i] <- a[i]+1\n",
        "    if(a[i]==2)\n",
        "        break\n",
        "} \n",
        "print(a)"
      ]
    },
    {
      "cell_type": "markdown",
      "id": "c9bf0f97",
      "metadata": {
        "id": "c9bf0f97"
      },
      "source": [
        "#### While loop"
      ]
    },
    {
      "cell_type": "code",
      "execution_count": null,
      "id": "c3fbdab0",
      "metadata": {
        "id": "c3fbdab0",
        "outputId": "445b7ce8-70fb-4734-d35b-903e7b03e39e"
      },
      "outputs": [
        {
          "name": "stdout",
          "output_type": "stream",
          "text": [
            "[1] 0\n",
            "[1] 1\n",
            "[1] 2\n",
            "[1] 3\n"
          ]
        }
      ],
      "source": [
        "i=0\n",
        "while (i <= 3)\n",
        "{ \n",
        "    print(i)\n",
        "    i <- i + 1\n",
        "}"
      ]
    },
    {
      "cell_type": "markdown",
      "id": "042a521e",
      "metadata": {
        "id": "042a521e"
      },
      "source": [
        "#### Repeat"
      ]
    },
    {
      "cell_type": "code",
      "execution_count": null,
      "id": "daa9a9cf",
      "metadata": {
        "id": "daa9a9cf",
        "outputId": "442040db-3366-4c97-c070-557b2eb62efe"
      },
      "outputs": [
        {
          "name": "stdout",
          "output_type": "stream",
          "text": [
            "[1] 2\n",
            "[1] 3\n",
            "[1] 4\n"
          ]
        }
      ],
      "source": [
        "v <- 1:4\n",
        "i <-1\n",
        "repeat{\n",
        "    i <- i+1\n",
        "    print(v[i])\n",
        "    if(i==4)\n",
        "        break\n",
        "}"
      ]
    }
  ],
  "metadata": {
    "kernelspec": {
      "display_name": "R",
      "language": "R",
      "name": "ir"
    },
    "language_info": {
      "codemirror_mode": "r",
      "file_extension": ".r",
      "mimetype": "text/x-r-source",
      "name": "R",
      "pygments_lexer": "r",
      "version": "4.2.2"
    },
    "colab": {
      "provenance": [],
      "include_colab_link": true
    }
  },
  "nbformat": 4,
  "nbformat_minor": 5
}