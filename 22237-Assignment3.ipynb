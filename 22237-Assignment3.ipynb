{
 "cells": [
  {
   "cell_type": "markdown",
   "id": "6a91d05d",
   "metadata": {},
   "source": [
    "#### User-defined Function"
   ]
  },
  {
   "cell_type": "code",
   "execution_count": 1,
   "id": "32ead081",
   "metadata": {},
   "outputs": [],
   "source": [
    "# Function to print cube of a range of numbers\n",
    "Cube <- function()\n",
    "{\n",
    "    for (i in 1:4)\n",
    "    {\n",
    "        b <- i^3\n",
    "        print(b)\n",
    "    }\n",
    "}"
   ]
  },
  {
   "cell_type": "markdown",
   "id": "503fcbd4",
   "metadata": {},
   "source": [
    "#### Calling a Function without an Argument"
   ]
  },
  {
   "cell_type": "code",
   "execution_count": 2,
   "id": "c164dd37",
   "metadata": {},
   "outputs": [
    {
     "name": "stdout",
     "output_type": "stream",
     "text": [
      "[1] 1\n",
      "[1] 8\n",
      "[1] 27\n",
      "[1] 64\n"
     ]
    }
   ],
   "source": [
    "# \n",
    "Cube()"
   ]
  },
  {
   "cell_type": "markdown",
   "id": "ab8f2f34",
   "metadata": {},
   "source": [
    "#### Function to get dot product of 2 vectors"
   ]
  },
  {
   "cell_type": "code",
   "execution_count": 14,
   "id": "bbbd6c74",
   "metadata": {},
   "outputs": [],
   "source": [
    "dot <- function(a,b)\n",
    "{\n",
    "    s=0\n",
    "    for (i in 1:3)\n",
    "    {\n",
    "        s = s + a[i]*b[i]\n",
    "    }\n",
    "    print(s)\n",
    "}"
   ]
  },
  {
   "cell_type": "code",
   "execution_count": 15,
   "id": "6900084f",
   "metadata": {},
   "outputs": [
    {
     "name": "stdout",
     "output_type": "stream",
     "text": [
      "[1] 11\n"
     ]
    }
   ],
   "source": [
    "dot(c(1,2,3),c(4,2,1))"
   ]
  },
  {
   "cell_type": "markdown",
   "id": "359bbee8",
   "metadata": {},
   "source": [
    "#### Lazy Evaluation of Function\n",
    "Arguments to functions are evaluated lazily, which means so they are evaluated only when needed\n",
    "by the function body."
   ]
  },
  {
   "cell_type": "code",
   "execution_count": 43,
   "id": "f12817df",
   "metadata": {},
   "outputs": [],
   "source": [
    "mean_of_vector = function(a, mean_){ # mean_ is not evaluated unless it is accessed\n",
    "    \n",
    "    print(a)\n",
    "    # paste(\"The mean of a is \", mean_)  \n",
    "}"
   ]
  },
  {
   "cell_type": "code",
   "execution_count": 44,
   "id": "185f6728",
   "metadata": {},
   "outputs": [
    {
     "name": "stdout",
     "output_type": "stream",
     "text": [
      "[1]   1   2   4   1 134\n"
     ]
    }
   ],
   "source": [
    "mean_of_vector(c(1,2,4,1,134))"
   ]
  },
  {
   "cell_type": "markdown",
   "id": "eae35371",
   "metadata": {},
   "source": [
    "#### Function to get area of triangle using Heron's formula"
   ]
  },
  {
   "cell_type": "code",
   "execution_count": 21,
   "id": "c7fae407",
   "metadata": {},
   "outputs": [],
   "source": [
    "area = function(a,b,c){\n",
    "    \n",
    "    s = (a+b+c)/2\n",
    "    print(sqrt(s*(s-a)*(s-b)*(s-c)))\n",
    "}"
   ]
  },
  {
   "cell_type": "code",
   "execution_count": 23,
   "id": "f7a1d4ff",
   "metadata": {},
   "outputs": [
    {
     "name": "stdout",
     "output_type": "stream",
     "text": [
      "[1] 1.984313\n"
     ]
    }
   ],
   "source": [
    "area(3,2,2)"
   ]
  },
  {
   "cell_type": "markdown",
   "id": "f7bcb69d",
   "metadata": {},
   "source": [
    "#### Write a function within another"
   ]
  },
  {
   "cell_type": "code",
   "execution_count": 32,
   "id": "0e95bb7d",
   "metadata": {},
   "outputs": [
    {
     "data": {
      "text/html": [
       "8"
      ],
      "text/latex": [
       "8"
      ],
      "text/markdown": [
       "8"
      ],
      "text/plain": [
       "[1] 8"
      ]
     },
     "metadata": {},
     "output_type": "display_data"
    }
   ],
   "source": [
    "Outer_func <- function(x) {\n",
    "  Inner_func <- function(y) {\n",
    "    a <- x + y\n",
    "    return(a)\n",
    "  }\n",
    "}\n",
    "output <- Outer_func(3) # To call the Outer_func\n",
    "output(5)"
   ]
  },
  {
   "cell_type": "markdown",
   "id": "9cf0b60e",
   "metadata": {},
   "source": [
    "#### Call a function within another function:"
   ]
  },
  {
   "cell_type": "code",
   "execution_count": 34,
   "id": "681598f8",
   "metadata": {},
   "outputs": [
    {
     "data": {
      "text/html": [
       "10"
      ],
      "text/latex": [
       "10"
      ],
      "text/markdown": [
       "10"
      ],
      "text/plain": [
       "[1] 10"
      ]
     },
     "metadata": {},
     "output_type": "display_data"
    }
   ],
   "source": [
    "Nested <- function(x, y) {\n",
    "  a <- x + y\n",
    "  return(a)\n",
    "}\n",
    "\n",
    "Nested(Nested(2,2), Nested(3,3))"
   ]
  }
 ],
 "metadata": {
  "kernelspec": {
   "display_name": "R",
   "language": "R",
   "name": "ir"
  },
  "language_info": {
   "codemirror_mode": "r",
   "file_extension": ".r",
   "mimetype": "text/x-r-source",
   "name": "R",
   "pygments_lexer": "r",
   "version": "4.2.2"
  }
 },
 "nbformat": 4,
 "nbformat_minor": 5
}
